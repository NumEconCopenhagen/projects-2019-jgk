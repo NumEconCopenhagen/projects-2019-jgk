{
 "cells": [
  {
   "cell_type": "markdown",
   "metadata": {},
   "source": [
    "# Project - Egypt's GDP and Unemployment"
   ]
  },
  {
   "cell_type": "markdown",
   "metadata": {},
   "source": [
    "The goal of this project is to investigate wether the GDP has an effect on the development of the unemployment rate. To help looking into this, Okun's Law is included in the thesis. Okun's law states that for each 1 % increase in unemployment, a country's GDP is going to be roughly 2 % lower than its potential GDP. In this study it will be looked into how the unemployment rates act, in corresponse to the trend we see for GDP. We will be looking at Egypt's GDP and unemployment rates from 1991 to 2014."
   ]
  },
  {
   "cell_type": "markdown",
   "metadata": {},
   "source": [
    "## Part 1"
   ]
  },
  {
   "cell_type": "code",
   "execution_count": 245,
   "metadata": {},
   "outputs": [],
   "source": [
    "#Importing Packages"
   ]
  },
  {
   "cell_type": "code",
   "execution_count": 246,
   "metadata": {},
   "outputs": [],
   "source": [
    "import pandas as pd\n",
    "from pandas_datareader import wb\n",
    "import wbdata\n",
    "import numpy as np\n",
    "import matplotlib.pyplot as plt\n",
    "from matplotlib_venn import venn2"
   ]
  },
  {
   "cell_type": "code",
   "execution_count": 247,
   "metadata": {},
   "outputs": [],
   "source": [
    "#Importing data for Egypt's GDP from World Bank, 1991-2014"
   ]
  },
  {
   "cell_type": "code",
   "execution_count": 248,
   "metadata": {},
   "outputs": [
    {
     "data": {
      "text/html": [
       "<div>\n",
       "<style scoped>\n",
       "    .dataframe tbody tr th:only-of-type {\n",
       "        vertical-align: middle;\n",
       "    }\n",
       "\n",
       "    .dataframe tbody tr th {\n",
       "        vertical-align: top;\n",
       "    }\n",
       "\n",
       "    .dataframe thead th {\n",
       "        text-align: right;\n",
       "    }\n",
       "</style>\n",
       "<table border=\"1\" class=\"dataframe\">\n",
       "  <thead>\n",
       "    <tr style=\"text-align: right;\">\n",
       "      <th></th>\n",
       "      <th>country</th>\n",
       "      <th>year</th>\n",
       "      <th>gdp</th>\n",
       "    </tr>\n",
       "  </thead>\n",
       "  <tbody>\n",
       "    <tr>\n",
       "      <th>0</th>\n",
       "      <td>Egypt, Arab Rep.</td>\n",
       "      <td>2014</td>\n",
       "      <td>2608.260442</td>\n",
       "    </tr>\n",
       "    <tr>\n",
       "      <th>1</th>\n",
       "      <td>Egypt, Arab Rep.</td>\n",
       "      <td>2013</td>\n",
       "      <td>2590.945457</td>\n",
       "    </tr>\n",
       "    <tr>\n",
       "      <th>2</th>\n",
       "      <td>Egypt, Arab Rep.</td>\n",
       "      <td>2012</td>\n",
       "      <td>2593.112377</td>\n",
       "    </tr>\n",
       "    <tr>\n",
       "      <th>3</th>\n",
       "      <td>Egypt, Arab Rep.</td>\n",
       "      <td>2011</td>\n",
       "      <td>2593.214102</td>\n",
       "    </tr>\n",
       "    <tr>\n",
       "      <th>4</th>\n",
       "      <td>Egypt, Arab Rep.</td>\n",
       "      <td>2010</td>\n",
       "      <td>2602.479549</td>\n",
       "    </tr>\n",
       "    <tr>\n",
       "      <th>5</th>\n",
       "      <td>Egypt, Arab Rep.</td>\n",
       "      <td>2009</td>\n",
       "      <td>2524.381342</td>\n",
       "    </tr>\n",
       "    <tr>\n",
       "      <th>6</th>\n",
       "      <td>Egypt, Arab Rep.</td>\n",
       "      <td>2008</td>\n",
       "      <td>2456.687446</td>\n",
       "    </tr>\n",
       "    <tr>\n",
       "      <th>7</th>\n",
       "      <td>Egypt, Arab Rep.</td>\n",
       "      <td>2007</td>\n",
       "      <td>2333.454571</td>\n",
       "    </tr>\n",
       "    <tr>\n",
       "      <th>8</th>\n",
       "      <td>Egypt, Arab Rep.</td>\n",
       "      <td>2006</td>\n",
       "      <td>2217.433320</td>\n",
       "    </tr>\n",
       "    <tr>\n",
       "      <th>9</th>\n",
       "      <td>Egypt, Arab Rep.</td>\n",
       "      <td>2005</td>\n",
       "      <td>2112.723735</td>\n",
       "    </tr>\n",
       "    <tr>\n",
       "      <th>10</th>\n",
       "      <td>Egypt, Arab Rep.</td>\n",
       "      <td>2004</td>\n",
       "      <td>2059.749606</td>\n",
       "    </tr>\n",
       "  </tbody>\n",
       "</table>\n",
       "</div>"
      ],
      "text/plain": [
       "             country  year          gdp\n",
       "0   Egypt, Arab Rep.  2014  2608.260442\n",
       "1   Egypt, Arab Rep.  2013  2590.945457\n",
       "2   Egypt, Arab Rep.  2012  2593.112377\n",
       "3   Egypt, Arab Rep.  2011  2593.214102\n",
       "4   Egypt, Arab Rep.  2010  2602.479549\n",
       "5   Egypt, Arab Rep.  2009  2524.381342\n",
       "6   Egypt, Arab Rep.  2008  2456.687446\n",
       "7   Egypt, Arab Rep.  2007  2333.454571\n",
       "8   Egypt, Arab Rep.  2006  2217.433320\n",
       "9   Egypt, Arab Rep.  2005  2112.723735\n",
       "10  Egypt, Arab Rep.  2004  2059.749606"
      ]
     },
     "execution_count": 248,
     "metadata": {},
     "output_type": "execute_result"
    }
   ],
   "source": [
    "gdp_wb = wb.download(indicator='NY.GDP.PCAP.KD', country=['EG'], start=1991, end=2014)                \n",
    "gdp_wb = gdp_wb.rename(columns = {'NY.GDP.PCAP.KD':'gdp'})\n",
    "gdp_wb = gdp_wb.reset_index()\n",
    "gdp_wb.year = gdp_wb.year.astype(int)\n",
    "gdp_wb.head(11)"
   ]
  },
  {
   "cell_type": "markdown",
   "metadata": {},
   "source": [
    "The trend of GDP is seen to be overall increasing, however a smaller relative increase the last few years"
   ]
  },
  {
   "cell_type": "code",
   "execution_count": 249,
   "metadata": {},
   "outputs": [
    {
     "data": {
      "text/html": [
       "<div>\n",
       "<style scoped>\n",
       "    .dataframe tbody tr th:only-of-type {\n",
       "        vertical-align: middle;\n",
       "    }\n",
       "\n",
       "    .dataframe tbody tr th {\n",
       "        vertical-align: top;\n",
       "    }\n",
       "\n",
       "    .dataframe thead th {\n",
       "        text-align: right;\n",
       "    }\n",
       "</style>\n",
       "<table border=\"1\" class=\"dataframe\">\n",
       "  <thead>\n",
       "    <tr style=\"text-align: right;\">\n",
       "      <th></th>\n",
       "      <th>country</th>\n",
       "      <th>year</th>\n",
       "      <th>gdp_growth</th>\n",
       "    </tr>\n",
       "  </thead>\n",
       "  <tbody>\n",
       "    <tr>\n",
       "      <th>0</th>\n",
       "      <td>Egypt, Arab Rep.</td>\n",
       "      <td>2014</td>\n",
       "      <td>2.915912</td>\n",
       "    </tr>\n",
       "    <tr>\n",
       "      <th>1</th>\n",
       "      <td>Egypt, Arab Rep.</td>\n",
       "      <td>2013</td>\n",
       "      <td>2.185466</td>\n",
       "    </tr>\n",
       "    <tr>\n",
       "      <th>2</th>\n",
       "      <td>Egypt, Arab Rep.</td>\n",
       "      <td>2012</td>\n",
       "      <td>2.226200</td>\n",
       "    </tr>\n",
       "    <tr>\n",
       "      <th>3</th>\n",
       "      <td>Egypt, Arab Rep.</td>\n",
       "      <td>2011</td>\n",
       "      <td>1.764572</td>\n",
       "    </tr>\n",
       "    <tr>\n",
       "      <th>4</th>\n",
       "      <td>Egypt, Arab Rep.</td>\n",
       "      <td>2010</td>\n",
       "      <td>5.147235</td>\n",
       "    </tr>\n",
       "    <tr>\n",
       "      <th>5</th>\n",
       "      <td>Egypt, Arab Rep.</td>\n",
       "      <td>2009</td>\n",
       "      <td>4.673600</td>\n",
       "    </tr>\n",
       "    <tr>\n",
       "      <th>6</th>\n",
       "      <td>Egypt, Arab Rep.</td>\n",
       "      <td>2008</td>\n",
       "      <td>7.156284</td>\n",
       "    </tr>\n",
       "    <tr>\n",
       "      <th>7</th>\n",
       "      <td>Egypt, Arab Rep.</td>\n",
       "      <td>2007</td>\n",
       "      <td>7.087827</td>\n",
       "    </tr>\n",
       "    <tr>\n",
       "      <th>8</th>\n",
       "      <td>Egypt, Arab Rep.</td>\n",
       "      <td>2006</td>\n",
       "      <td>6.843838</td>\n",
       "    </tr>\n",
       "    <tr>\n",
       "      <th>9</th>\n",
       "      <td>Egypt, Arab Rep.</td>\n",
       "      <td>2005</td>\n",
       "      <td>4.471744</td>\n",
       "    </tr>\n",
       "    <tr>\n",
       "      <th>10</th>\n",
       "      <td>Egypt, Arab Rep.</td>\n",
       "      <td>2004</td>\n",
       "      <td>4.092072</td>\n",
       "    </tr>\n",
       "  </tbody>\n",
       "</table>\n",
       "</div>"
      ],
      "text/plain": [
       "             country  year  gdp_growth\n",
       "0   Egypt, Arab Rep.  2014    2.915912\n",
       "1   Egypt, Arab Rep.  2013    2.185466\n",
       "2   Egypt, Arab Rep.  2012    2.226200\n",
       "3   Egypt, Arab Rep.  2011    1.764572\n",
       "4   Egypt, Arab Rep.  2010    5.147235\n",
       "5   Egypt, Arab Rep.  2009    4.673600\n",
       "6   Egypt, Arab Rep.  2008    7.156284\n",
       "7   Egypt, Arab Rep.  2007    7.087827\n",
       "8   Egypt, Arab Rep.  2006    6.843838\n",
       "9   Egypt, Arab Rep.  2005    4.471744\n",
       "10  Egypt, Arab Rep.  2004    4.092072"
      ]
     },
     "execution_count": 249,
     "metadata": {},
     "output_type": "execute_result"
    }
   ],
   "source": [
    "gdpgrowth_wb = wb.download(indicator='NY.GDP.MKTP.KD.ZG', country=['EG'], start=1991, end=2014)\n",
    "gdpgrowth_wb = gdpgrowth_wb.rename(columns = {'NY.GDP.MKTP.KD.ZG':'gdp_growth'})\n",
    "gdpgrowth_wb = gdpgrowth_wb.reset_index()\n",
    "gdpgrowth_wb.year = gdpgrowth_wb.year.astype(int)\n",
    "gdpgrowth_wb.head(-13)"
   ]
  },
  {
   "cell_type": "markdown",
   "metadata": {},
   "source": [
    "Again, the growth is seen to be not as significant that last few years, after the crisis in 2009, however quite high increases up to 2009."
   ]
  },
  {
   "cell_type": "code",
   "execution_count": 250,
   "metadata": {},
   "outputs": [],
   "source": [
    "#Implementing unemployment data from excel file"
   ]
  },
  {
   "cell_type": "code",
   "execution_count": 251,
   "metadata": {},
   "outputs": [
    {
     "name": "stdout",
     "output_type": "stream",
     "text": [
      "    year  unemployment\n",
      "0   1990         8.044\n",
      "1   1991         8.791\n",
      "2   1992         8.952\n",
      "3   1993        10.911\n",
      "4   1994        11.143\n",
      "5   1995        11.176\n",
      "6   1996         9.467\n",
      "7   1997         8.671\n",
      "8   1998         7.955\n",
      "9   1999         7.692\n",
      "10  2000         8.995\n",
      "11  2001         8.808\n",
      "12  2002        10.050\n",
      "13  2003        11.275\n",
      "14  2004        10.526\n",
      "15  2005        11.468\n",
      "16  2006        10.917\n",
      "17  2007         9.205\n",
      "18  2008         8.767\n",
      "19  2009         9.367\n",
      "20  2010         9.210\n",
      "21  2011        10.379\n",
      "22  2012        12.372\n",
      "23  2013        13.000\n",
      "24  2014        13.366\n"
     ]
    }
   ],
   "source": [
    "unempl = pd.read_excel('Egypt Unemployment.xlsx')\n",
    "print(unempl)"
   ]
  },
  {
   "cell_type": "markdown",
   "metadata": {},
   "source": [
    "Its clear its quite a swinging unemployment rate, with no real pattern at the first glance. However, the rate is decreasing from 2005 to 2009, to then increase afterwards, in correlation to the financial crisis, which also is seems to be linked to the decrease in relative GDP growth those years. Furthermore, during the years with a high growth in GDP, from 2006 to 2008, the unemployment rate is at near lowest point for the period. "
   ]
  },
  {
   "cell_type": "code",
   "execution_count": 252,
   "metadata": {},
   "outputs": [],
   "source": [
    "#Changing type"
   ]
  },
  {
   "cell_type": "code",
   "execution_count": 253,
   "metadata": {},
   "outputs": [],
   "source": [
    "gdpgrowth_wb.year = gdpgrowth_wb.year.astype(int)\n",
    "gdp_wb.year = gdp_wb.year.astype(int)\n",
    "unempl.year = unempl.year.astype(int)"
   ]
  },
  {
   "cell_type": "code",
   "execution_count": 254,
   "metadata": {},
   "outputs": [],
   "source": [
    "#Merging data"
   ]
  },
  {
   "cell_type": "code",
   "execution_count": 255,
   "metadata": {},
   "outputs": [
    {
     "name": "stdout",
     "output_type": "stream",
     "text": [
      "(25, 2)\n",
      "(24, 3)\n",
      "(25, 4)\n"
     ]
    },
    {
     "data": {
      "text/html": [
       "<div>\n",
       "<style scoped>\n",
       "    .dataframe tbody tr th:only-of-type {\n",
       "        vertical-align: middle;\n",
       "    }\n",
       "\n",
       "    .dataframe tbody tr th {\n",
       "        vertical-align: top;\n",
       "    }\n",
       "\n",
       "    .dataframe thead th {\n",
       "        text-align: right;\n",
       "    }\n",
       "</style>\n",
       "<table border=\"1\" class=\"dataframe\">\n",
       "  <thead>\n",
       "    <tr style=\"text-align: right;\">\n",
       "      <th></th>\n",
       "      <th>year</th>\n",
       "      <th>unemployment</th>\n",
       "      <th>country</th>\n",
       "      <th>gdp_growth</th>\n",
       "    </tr>\n",
       "  </thead>\n",
       "  <tbody>\n",
       "    <tr>\n",
       "      <th>16</th>\n",
       "      <td>2006</td>\n",
       "      <td>10.917</td>\n",
       "      <td>Egypt, Arab Rep.</td>\n",
       "      <td>6.843838</td>\n",
       "    </tr>\n",
       "    <tr>\n",
       "      <th>6</th>\n",
       "      <td>1996</td>\n",
       "      <td>9.467</td>\n",
       "      <td>Egypt, Arab Rep.</td>\n",
       "      <td>4.988731</td>\n",
       "    </tr>\n",
       "    <tr>\n",
       "      <th>8</th>\n",
       "      <td>1998</td>\n",
       "      <td>7.955</td>\n",
       "      <td>Egypt, Arab Rep.</td>\n",
       "      <td>5.575497</td>\n",
       "    </tr>\n",
       "    <tr>\n",
       "      <th>14</th>\n",
       "      <td>2004</td>\n",
       "      <td>10.526</td>\n",
       "      <td>Egypt, Arab Rep.</td>\n",
       "      <td>4.092072</td>\n",
       "    </tr>\n",
       "    <tr>\n",
       "      <th>22</th>\n",
       "      <td>2012</td>\n",
       "      <td>12.372</td>\n",
       "      <td>Egypt, Arab Rep.</td>\n",
       "      <td>2.226200</td>\n",
       "    </tr>\n",
       "    <tr>\n",
       "      <th>15</th>\n",
       "      <td>2005</td>\n",
       "      <td>11.468</td>\n",
       "      <td>Egypt, Arab Rep.</td>\n",
       "      <td>4.471744</td>\n",
       "    </tr>\n",
       "  </tbody>\n",
       "</table>\n",
       "</div>"
      ],
      "text/plain": [
       "    year  unemployment           country  gdp_growth\n",
       "16  2006        10.917  Egypt, Arab Rep.    6.843838\n",
       "6   1996         9.467  Egypt, Arab Rep.    4.988731\n",
       "8   1998         7.955  Egypt, Arab Rep.    5.575497\n",
       "14  2004        10.526  Egypt, Arab Rep.    4.092072\n",
       "22  2012        12.372  Egypt, Arab Rep.    2.226200\n",
       "15  2005        11.468  Egypt, Arab Rep.    4.471744"
      ]
     },
     "execution_count": 255,
     "metadata": {},
     "output_type": "execute_result"
    }
   ],
   "source": [
    "mergeddata = pd.merge(unempl, gdpgrowth_wb, how='outer', on = ['year'])\n",
    "print(unempl.shape)\n",
    "print(gdpgrowth_wb.shape)\n",
    "print(mergeddata.shape)\n",
    "mergeddata.sample(6)"
   ]
  },
  {
   "cell_type": "code",
   "execution_count": 256,
   "metadata": {},
   "outputs": [],
   "source": [
    "#Sorting data"
   ]
  },
  {
   "cell_type": "code",
   "execution_count": 257,
   "metadata": {},
   "outputs": [
    {
     "data": {
      "text/html": [
       "<div>\n",
       "<style scoped>\n",
       "    .dataframe tbody tr th:only-of-type {\n",
       "        vertical-align: middle;\n",
       "    }\n",
       "\n",
       "    .dataframe tbody tr th {\n",
       "        vertical-align: top;\n",
       "    }\n",
       "\n",
       "    .dataframe thead th {\n",
       "        text-align: right;\n",
       "    }\n",
       "</style>\n",
       "<table border=\"1\" class=\"dataframe\">\n",
       "  <thead>\n",
       "    <tr style=\"text-align: right;\">\n",
       "      <th></th>\n",
       "      <th>year</th>\n",
       "      <th>unemployment</th>\n",
       "      <th>country</th>\n",
       "      <th>gdp_growth</th>\n",
       "    </tr>\n",
       "  </thead>\n",
       "  <tbody>\n",
       "    <tr>\n",
       "      <th>0</th>\n",
       "      <td>1990</td>\n",
       "      <td>8.044</td>\n",
       "      <td>NaN</td>\n",
       "      <td>NaN</td>\n",
       "    </tr>\n",
       "    <tr>\n",
       "      <th>1</th>\n",
       "      <td>1991</td>\n",
       "      <td>8.791</td>\n",
       "      <td>Egypt, Arab Rep.</td>\n",
       "      <td>1.125405</td>\n",
       "    </tr>\n",
       "    <tr>\n",
       "      <th>2</th>\n",
       "      <td>1992</td>\n",
       "      <td>8.952</td>\n",
       "      <td>Egypt, Arab Rep.</td>\n",
       "      <td>4.472859</td>\n",
       "    </tr>\n",
       "    <tr>\n",
       "      <th>3</th>\n",
       "      <td>1993</td>\n",
       "      <td>10.911</td>\n",
       "      <td>Egypt, Arab Rep.</td>\n",
       "      <td>2.900791</td>\n",
       "    </tr>\n",
       "    <tr>\n",
       "      <th>4</th>\n",
       "      <td>1994</td>\n",
       "      <td>11.143</td>\n",
       "      <td>Egypt, Arab Rep.</td>\n",
       "      <td>3.973172</td>\n",
       "    </tr>\n",
       "    <tr>\n",
       "      <th>5</th>\n",
       "      <td>1995</td>\n",
       "      <td>11.176</td>\n",
       "      <td>Egypt, Arab Rep.</td>\n",
       "      <td>4.642459</td>\n",
       "    </tr>\n",
       "    <tr>\n",
       "      <th>6</th>\n",
       "      <td>1996</td>\n",
       "      <td>9.467</td>\n",
       "      <td>Egypt, Arab Rep.</td>\n",
       "      <td>4.988731</td>\n",
       "    </tr>\n",
       "    <tr>\n",
       "      <th>7</th>\n",
       "      <td>1997</td>\n",
       "      <td>8.671</td>\n",
       "      <td>Egypt, Arab Rep.</td>\n",
       "      <td>5.492355</td>\n",
       "    </tr>\n",
       "    <tr>\n",
       "      <th>8</th>\n",
       "      <td>1998</td>\n",
       "      <td>7.955</td>\n",
       "      <td>Egypt, Arab Rep.</td>\n",
       "      <td>5.575497</td>\n",
       "    </tr>\n",
       "    <tr>\n",
       "      <th>9</th>\n",
       "      <td>1999</td>\n",
       "      <td>7.692</td>\n",
       "      <td>Egypt, Arab Rep.</td>\n",
       "      <td>6.053439</td>\n",
       "    </tr>\n",
       "    <tr>\n",
       "      <th>10</th>\n",
       "      <td>2000</td>\n",
       "      <td>8.995</td>\n",
       "      <td>Egypt, Arab Rep.</td>\n",
       "      <td>6.370004</td>\n",
       "    </tr>\n",
       "    <tr>\n",
       "      <th>11</th>\n",
       "      <td>2001</td>\n",
       "      <td>8.808</td>\n",
       "      <td>Egypt, Arab Rep.</td>\n",
       "      <td>3.535252</td>\n",
       "    </tr>\n",
       "    <tr>\n",
       "      <th>12</th>\n",
       "      <td>2002</td>\n",
       "      <td>10.050</td>\n",
       "      <td>Egypt, Arab Rep.</td>\n",
       "      <td>2.390204</td>\n",
       "    </tr>\n",
       "    <tr>\n",
       "      <th>13</th>\n",
       "      <td>2003</td>\n",
       "      <td>11.275</td>\n",
       "      <td>Egypt, Arab Rep.</td>\n",
       "      <td>3.193455</td>\n",
       "    </tr>\n",
       "    <tr>\n",
       "      <th>14</th>\n",
       "      <td>2004</td>\n",
       "      <td>10.526</td>\n",
       "      <td>Egypt, Arab Rep.</td>\n",
       "      <td>4.092072</td>\n",
       "    </tr>\n",
       "    <tr>\n",
       "      <th>15</th>\n",
       "      <td>2005</td>\n",
       "      <td>11.468</td>\n",
       "      <td>Egypt, Arab Rep.</td>\n",
       "      <td>4.471744</td>\n",
       "    </tr>\n",
       "    <tr>\n",
       "      <th>16</th>\n",
       "      <td>2006</td>\n",
       "      <td>10.917</td>\n",
       "      <td>Egypt, Arab Rep.</td>\n",
       "      <td>6.843838</td>\n",
       "    </tr>\n",
       "    <tr>\n",
       "      <th>17</th>\n",
       "      <td>2007</td>\n",
       "      <td>9.205</td>\n",
       "      <td>Egypt, Arab Rep.</td>\n",
       "      <td>7.087827</td>\n",
       "    </tr>\n",
       "    <tr>\n",
       "      <th>18</th>\n",
       "      <td>2008</td>\n",
       "      <td>8.767</td>\n",
       "      <td>Egypt, Arab Rep.</td>\n",
       "      <td>7.156284</td>\n",
       "    </tr>\n",
       "    <tr>\n",
       "      <th>19</th>\n",
       "      <td>2009</td>\n",
       "      <td>9.367</td>\n",
       "      <td>Egypt, Arab Rep.</td>\n",
       "      <td>4.673600</td>\n",
       "    </tr>\n",
       "    <tr>\n",
       "      <th>20</th>\n",
       "      <td>2010</td>\n",
       "      <td>9.210</td>\n",
       "      <td>Egypt, Arab Rep.</td>\n",
       "      <td>5.147235</td>\n",
       "    </tr>\n",
       "    <tr>\n",
       "      <th>21</th>\n",
       "      <td>2011</td>\n",
       "      <td>10.379</td>\n",
       "      <td>Egypt, Arab Rep.</td>\n",
       "      <td>1.764572</td>\n",
       "    </tr>\n",
       "    <tr>\n",
       "      <th>22</th>\n",
       "      <td>2012</td>\n",
       "      <td>12.372</td>\n",
       "      <td>Egypt, Arab Rep.</td>\n",
       "      <td>2.226200</td>\n",
       "    </tr>\n",
       "    <tr>\n",
       "      <th>23</th>\n",
       "      <td>2013</td>\n",
       "      <td>13.000</td>\n",
       "      <td>Egypt, Arab Rep.</td>\n",
       "      <td>2.185466</td>\n",
       "    </tr>\n",
       "    <tr>\n",
       "      <th>24</th>\n",
       "      <td>2014</td>\n",
       "      <td>13.366</td>\n",
       "      <td>Egypt, Arab Rep.</td>\n",
       "      <td>2.915912</td>\n",
       "    </tr>\n",
       "  </tbody>\n",
       "</table>\n",
       "</div>"
      ],
      "text/plain": [
       "    year  unemployment           country  gdp_growth\n",
       "0   1990         8.044               NaN         NaN\n",
       "1   1991         8.791  Egypt, Arab Rep.    1.125405\n",
       "2   1992         8.952  Egypt, Arab Rep.    4.472859\n",
       "3   1993        10.911  Egypt, Arab Rep.    2.900791\n",
       "4   1994        11.143  Egypt, Arab Rep.    3.973172\n",
       "5   1995        11.176  Egypt, Arab Rep.    4.642459\n",
       "6   1996         9.467  Egypt, Arab Rep.    4.988731\n",
       "7   1997         8.671  Egypt, Arab Rep.    5.492355\n",
       "8   1998         7.955  Egypt, Arab Rep.    5.575497\n",
       "9   1999         7.692  Egypt, Arab Rep.    6.053439\n",
       "10  2000         8.995  Egypt, Arab Rep.    6.370004\n",
       "11  2001         8.808  Egypt, Arab Rep.    3.535252\n",
       "12  2002        10.050  Egypt, Arab Rep.    2.390204\n",
       "13  2003        11.275  Egypt, Arab Rep.    3.193455\n",
       "14  2004        10.526  Egypt, Arab Rep.    4.092072\n",
       "15  2005        11.468  Egypt, Arab Rep.    4.471744\n",
       "16  2006        10.917  Egypt, Arab Rep.    6.843838\n",
       "17  2007         9.205  Egypt, Arab Rep.    7.087827\n",
       "18  2008         8.767  Egypt, Arab Rep.    7.156284\n",
       "19  2009         9.367  Egypt, Arab Rep.    4.673600\n",
       "20  2010         9.210  Egypt, Arab Rep.    5.147235\n",
       "21  2011        10.379  Egypt, Arab Rep.    1.764572\n",
       "22  2012        12.372  Egypt, Arab Rep.    2.226200\n",
       "23  2013        13.000  Egypt, Arab Rep.    2.185466\n",
       "24  2014        13.366  Egypt, Arab Rep.    2.915912"
      ]
     },
     "execution_count": 257,
     "metadata": {},
     "output_type": "execute_result"
    }
   ],
   "source": [
    "mergeddata.sort_index()"
   ]
  },
  {
   "cell_type": "code",
   "execution_count": 258,
   "metadata": {},
   "outputs": [],
   "source": [
    "#Cleaning data, and converting to a float (dropping by instances of missing data)"
   ]
  },
  {
   "cell_type": "code",
   "execution_count": 259,
   "metadata": {},
   "outputs": [],
   "source": [
    "mergeddata = mergeddata.dropna()\n",
    "mergeddata.unemployment = mergeddata.unemployment.astype('float')\n",
    "mergeddata.gdp_growth = mergeddata.gdp_growth.astype('float')"
   ]
  },
  {
   "cell_type": "markdown",
   "metadata": {},
   "source": [
    "## Part 2"
   ]
  },
  {
   "cell_type": "code",
   "execution_count": 260,
   "metadata": {},
   "outputs": [],
   "source": [
    "#Analyzing data with statistics"
   ]
  },
  {
   "cell_type": "code",
   "execution_count": 261,
   "metadata": {},
   "outputs": [
    {
     "data": {
      "text/plain": [
       "count    24.000000\n",
       "mean      4.303265\n",
       "std       1.733006\n",
       "min       1.125405\n",
       "25%       2.912132\n",
       "50%       4.472302\n",
       "75%       5.513140\n",
       "max       7.156284\n",
       "Name: gdp_growth, dtype: float64"
      ]
     },
     "execution_count": 261,
     "metadata": {},
     "output_type": "execute_result"
    }
   ],
   "source": [
    "mergeddata['gdp_growth'].describe()"
   ]
  },
  {
   "cell_type": "markdown",
   "metadata": {},
   "source": [
    "The mean of the growth of GDP is 4.303, which does show quite a large positive growth in gdp during the period, while highest growth was a staggering 7.1562 percent, and lowest 1.1254 percent."
   ]
  },
  {
   "cell_type": "code",
   "execution_count": 262,
   "metadata": {},
   "outputs": [
    {
     "data": {
      "text/plain": [
       "count    24.000000\n",
       "mean     10.102625\n",
       "std       1.532183\n",
       "min       7.692000\n",
       "25%       8.916000\n",
       "50%       9.758500\n",
       "75%      11.151250\n",
       "max      13.366000\n",
       "Name: unemployment, dtype: float64"
      ]
     },
     "execution_count": 262,
     "metadata": {},
     "output_type": "execute_result"
    }
   ],
   "source": [
    "mergeddata['unemployment'].describe()"
   ]
  },
  {
   "cell_type": "markdown",
   "metadata": {},
   "source": [
    "Here the first number that jumps to the eye, is the mean - the overall change for the periode, which is 10.102. This tells us, that the unemployment rate overall is increasing during the period. The highest rate recorded was 13.366 percent in 2014, which tells us Egypt is still trying to overcome the financial crisis. The lowest point recorded is 7.692 in 1999 , which is quite a large amount of the workforce in unemployment, however its almost half of the worst situation in 2014.\n",
    "In addition, a certain amount of dispersion in the data seems present, which the std (standard deviation) tells us."
   ]
  },
  {
   "cell_type": "code",
   "execution_count": 263,
   "metadata": {},
   "outputs": [],
   "source": [
    "#Calculation of the correlation between the two"
   ]
  },
  {
   "cell_type": "code",
   "execution_count": 264,
   "metadata": {},
   "outputs": [
    {
     "data": {
      "text/html": [
       "<div>\n",
       "<style scoped>\n",
       "    .dataframe tbody tr th:only-of-type {\n",
       "        vertical-align: middle;\n",
       "    }\n",
       "\n",
       "    .dataframe tbody tr th {\n",
       "        vertical-align: top;\n",
       "    }\n",
       "\n",
       "    .dataframe thead th {\n",
       "        text-align: right;\n",
       "    }\n",
       "</style>\n",
       "<table border=\"1\" class=\"dataframe\">\n",
       "  <thead>\n",
       "    <tr style=\"text-align: right;\">\n",
       "      <th></th>\n",
       "      <th>year</th>\n",
       "      <th>unemployment</th>\n",
       "      <th>gdp_growth</th>\n",
       "    </tr>\n",
       "  </thead>\n",
       "  <tbody>\n",
       "    <tr>\n",
       "      <th>year</th>\n",
       "      <td>1.000000</td>\n",
       "      <td>0.457167</td>\n",
       "      <td>-0.041357</td>\n",
       "    </tr>\n",
       "    <tr>\n",
       "      <th>unemployment</th>\n",
       "      <td>0.457167</td>\n",
       "      <td>1.000000</td>\n",
       "      <td>-0.490076</td>\n",
       "    </tr>\n",
       "    <tr>\n",
       "      <th>gdp_growth</th>\n",
       "      <td>-0.041357</td>\n",
       "      <td>-0.490076</td>\n",
       "      <td>1.000000</td>\n",
       "    </tr>\n",
       "  </tbody>\n",
       "</table>\n",
       "</div>"
      ],
      "text/plain": [
       "                  year  unemployment  gdp_growth\n",
       "year          1.000000      0.457167   -0.041357\n",
       "unemployment  0.457167      1.000000   -0.490076\n",
       "gdp_growth   -0.041357     -0.490076    1.000000"
      ]
     },
     "execution_count": 264,
     "metadata": {},
     "output_type": "execute_result"
    }
   ],
   "source": [
    "mergeddata.corr(method='pearson')"
   ]
  },
  {
   "cell_type": "markdown",
   "metadata": {},
   "source": [
    "The correlation between the unemployment and the growth is calcualted, to check whether or not Okun's law is fulfilled here.\n",
    "This calculation tells us, that to a growth in GDP by 1, a raise in unemployment on 0.457 percent follows, which is not at all in link to Okun's law. It does not make sense logically or for most of the data, however an explanation for this result could be that Egypt have been struggling the past decade."
   ]
  },
  {
   "cell_type": "code",
   "execution_count": 265,
   "metadata": {},
   "outputs": [],
   "source": [
    "#Positive growth?"
   ]
  },
  {
   "cell_type": "code",
   "execution_count": 266,
   "metadata": {},
   "outputs": [
    {
     "data": {
      "text/html": [
       "<div>\n",
       "<style scoped>\n",
       "    .dataframe tbody tr th:only-of-type {\n",
       "        vertical-align: middle;\n",
       "    }\n",
       "\n",
       "    .dataframe tbody tr th {\n",
       "        vertical-align: top;\n",
       "    }\n",
       "\n",
       "    .dataframe thead th {\n",
       "        text-align: right;\n",
       "    }\n",
       "</style>\n",
       "<table border=\"1\" class=\"dataframe\">\n",
       "  <thead>\n",
       "    <tr style=\"text-align: right;\">\n",
       "      <th></th>\n",
       "      <th>year</th>\n",
       "      <th>unemployment</th>\n",
       "      <th>country</th>\n",
       "      <th>gdp_growth</th>\n",
       "    </tr>\n",
       "  </thead>\n",
       "  <tbody>\n",
       "    <tr>\n",
       "      <th>1</th>\n",
       "      <td>1991</td>\n",
       "      <td>8.791</td>\n",
       "      <td>Egypt, Arab Rep.</td>\n",
       "      <td>1.125405</td>\n",
       "    </tr>\n",
       "    <tr>\n",
       "      <th>2</th>\n",
       "      <td>1992</td>\n",
       "      <td>8.952</td>\n",
       "      <td>Egypt, Arab Rep.</td>\n",
       "      <td>4.472859</td>\n",
       "    </tr>\n",
       "    <tr>\n",
       "      <th>3</th>\n",
       "      <td>1993</td>\n",
       "      <td>10.911</td>\n",
       "      <td>Egypt, Arab Rep.</td>\n",
       "      <td>2.900791</td>\n",
       "    </tr>\n",
       "    <tr>\n",
       "      <th>4</th>\n",
       "      <td>1994</td>\n",
       "      <td>11.143</td>\n",
       "      <td>Egypt, Arab Rep.</td>\n",
       "      <td>3.973172</td>\n",
       "    </tr>\n",
       "    <tr>\n",
       "      <th>5</th>\n",
       "      <td>1995</td>\n",
       "      <td>11.176</td>\n",
       "      <td>Egypt, Arab Rep.</td>\n",
       "      <td>4.642459</td>\n",
       "    </tr>\n",
       "  </tbody>\n",
       "</table>\n",
       "</div>"
      ],
      "text/plain": [
       "   year  unemployment           country  gdp_growth\n",
       "1  1991         8.791  Egypt, Arab Rep.    1.125405\n",
       "2  1992         8.952  Egypt, Arab Rep.    4.472859\n",
       "3  1993        10.911  Egypt, Arab Rep.    2.900791\n",
       "4  1994        11.143  Egypt, Arab Rep.    3.973172\n",
       "5  1995        11.176  Egypt, Arab Rep.    4.642459"
      ]
     },
     "execution_count": 266,
     "metadata": {},
     "output_type": "execute_result"
    }
   ],
   "source": [
    "I = mergeddata['unemployment'] > 0\n",
    "mergeddata.loc[I, :].head()"
   ]
  },
  {
   "cell_type": "markdown",
   "metadata": {},
   "source": [
    "In addition, a somewhat decent positive growth is shown here from 1991 to 1995, to an increase in unemployment. This is not in link with Okuns law either, and could also support the result we found, doing the correlation."
   ]
  },
  {
   "cell_type": "code",
   "execution_count": 267,
   "metadata": {},
   "outputs": [],
   "source": [
    "#Plot 1"
   ]
  },
  {
   "cell_type": "code",
   "execution_count": 268,
   "metadata": {},
   "outputs": [
    {
     "data": {
      "image/png": "[encoded data removed]",
      "text/plain": [
       "<Figure size 432x288 with 1 Axes>"
      ]
     },
     "metadata": {
      "needs_background": "light"
     },
     "output_type": "display_data"
    }
   ],
   "source": [
    "def plot(mergeddata):\n",
    "   mergeddata_indexed = mergeddata.set_index('year')\n",
    "   mergeddata_indexed.plot(legend=True)\n",
    "    \n",
    "plot(mergeddata)"
   ]
  },
  {
   "cell_type": "markdown",
   "metadata": {},
   "source": [
    "This plots enlightens us on the contradiction between the two, whereas the increase in unemployment is followed by an somewhat relative increase in GDP. Its quite clear from mid to late 90's, and from early 2000's to late 2000's, where an increase in both sections is seen. Its somewhat inconclusive during some of the periods, however the overall link is clear."
   ]
  },
  {
   "cell_type": "code",
   "execution_count": 269,
   "metadata": {},
   "outputs": [],
   "source": [
    "#Plot 2"
   ]
  },
  {
   "cell_type": "code",
   "execution_count": 270,
   "metadata": {},
   "outputs": [
    {
     "data": {
      "text/plain": [
       "Text(0, 0.5, 'unemployment')"
      ]
     },
     "execution_count": 270,
     "metadata": {},
     "output_type": "execute_result"
    },
    {
     "data": {
      "image/png": "[encoded data removed]",
      "text/plain": [
       "<Figure size 432x288 with 1 Axes>"
      ]
     },
     "metadata": {
      "needs_background": "light"
     },
     "output_type": "display_data"
    }
   ],
   "source": [
    "xy = mergeddata.plot(x = 'unemployment', y = 'gdp_growth', kind = 'scatter') \n",
    "xy.set_xlabel('gdp_growth') \n",
    "xy.set_ylabel('unemployment')"
   ]
  },
  {
   "cell_type": "markdown",
   "metadata": {},
   "source": [
    "This plot does also support the results we found prior to this section, it shows us that there is a positive correlation between GDP and unemployment, which completely contradicts Okun's law"
   ]
  },
  {
   "cell_type": "code",
   "execution_count": 271,
   "metadata": {},
   "outputs": [],
   "source": [
    "#Additional packages"
   ]
  },
  {
   "cell_type": "code",
   "execution_count": 272,
   "metadata": {},
   "outputs": [],
   "source": [
    "from numpy import arange,array,ones\n",
    "from scipy import stats"
   ]
  },
  {
   "cell_type": "code",
   "execution_count": 273,
   "metadata": {},
   "outputs": [],
   "source": [
    "#Using regression"
   ]
  },
  {
   "cell_type": "code",
   "execution_count": 274,
   "metadata": {},
   "outputs": [],
   "source": [
    "x = mergeddata['unemployment'] \n",
    "y = mergeddata['gdp_growth']"
   ]
  },
  {
   "cell_type": "code",
   "execution_count": 275,
   "metadata": {},
   "outputs": [],
   "source": [
    "#Clear overview"
   ]
  },
  {
   "cell_type": "code",
   "execution_count": 276,
   "metadata": {},
   "outputs": [
    {
     "data": {
      "text/plain": [
       "Text(0.5, 0, 'unemployment')"
      ]
     },
     "execution_count": 276,
     "metadata": {},
     "output_type": "execute_result"
    },
    {
     "data": {
      "image/png": "[encoded data removed]",
      "text/plain": [
       "<Figure size 432x288 with 1 Axes>"
      ]
     },
     "metadata": {
      "needs_background": "light"
     },
     "output_type": "display_data"
    }
   ],
   "source": [
    "slope, intercept, r_value, p_value, std_err = stats.linregress(x,y)\n",
    "line = slope*x+intercept\n",
    "\n",
    "plt.plot(x,y,'o', x, line)\n",
    "ax = plt.gca()\n",
    "fig = plt.gcf()\n",
    "ax.set_ylabel('gdp_growth') \n",
    "ax.set_xlabel('unemployment')"
   ]
  },
  {
   "cell_type": "markdown",
   "metadata": {},
   "source": [
    "Here the linear fit based on the prior scatterplot furthermore underlines the positive, yet surprising correlation between GDP and unemployment, however a rather large portion of the datapoints does not seem to be near the regresion line at all."
   ]
  }
 ],
 "metadata": {
  "kernelspec": {
   "display_name": "Python 3",
   "language": "python",
   "name": "python3"
  },
  "language_info": {
   "codemirror_mode": {
    "name": "ipython",
    "version": 3
   },
   "file_extension": ".py",
   "mimetype": "text/x-python",
   "name": "python",
   "nbconvert_exporter": "python",
   "pygments_lexer": "ipython3",
   "version": "3.7.1"
  }
 },
 "nbformat": 4,
 "nbformat_minor": 2
}
