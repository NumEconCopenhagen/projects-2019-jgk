{
 "cells": [
  {
   "cell_type": "code",
   "execution_count": 398,
   "metadata": {},
   "outputs": [],
   "source": [
    "import numpy as np\n",
    "import scipy as scip\n",
    "import sympy as sm\n",
    "import ipywidgets as widgets\n",
    "from scipy import linalg\n",
    "from scipy import optimize\n",
    "from scipy import interpolate\n",
    "import pandas as pd\n",
    "import sympy as sym\n",
    "import matplotlib.pyplot as plt\n",
    "from matplotlib import cm\n",
    "%matplotlib inline\n",
    "from mpl_toolkits.mplot3d import Axes3D\n",
    "sym.init_printing(use_unicode=True)\n",
    "from scipy import interpolate"
   ]
  },
  {
   "cell_type": "markdown",
   "metadata": {},
   "source": [
    "# 1. Human capital accumulation"
   ]
  },
  {
   "cell_type": "markdown",
   "metadata": {},
   "source": [
    "Consider a worker living in **two periods**, $t \\in \\{1,2\\}$. \n",
    "\n",
    "In each period she decides whether to **work ($l_t = 1$) or not ($l_t = 0$)**. \n",
    "\n",
    "She can *not* borrow or save and thus **consumes all of her income** in each period. "
   ]
  },
  {
   "cell_type": "markdown",
   "metadata": {},
   "source": [
    "If she **works** her **consumption** becomes:\n",
    "\n",
    "$$c_t = w h_t l_t\\,\\,\\text{if}\\,\\,l_t=1$$\n",
    "\n",
    "where $w$ is **the wage rate** and $h_t$ is her **human capital**. \n",
    "\n",
    "If she does **not work** her consumption becomes:\n",
    "\n",
    "$$c_t = b\\,\\,\\text{if}\\,\\,l_t=0$$\n",
    "\n",
    "where $b$ is the **unemployment benefits**."
   ]
  },
  {
   "cell_type": "markdown",
   "metadata": {},
   "source": [
    "Her **utility of consumption** is: \n",
    "\n",
    "$$ \\frac{c_t^{1-\\rho}}{1-\\rho} $$\n",
    "\n",
    "Her **disutility of working** is:\n",
    "\n",
    "$$ \\gamma l_t $$"
   ]
  },
  {
   "cell_type": "markdown",
   "metadata": {},
   "source": [
    "From period 1 to period 2, she **accumulates human capital** according to:\n",
    "\n",
    "$$ h_2 = h_1 + l_1 + \n",
    "\\begin{cases}\n",
    "0 & \\text{with prob. }0.5 \\\\\n",
    "\\Delta & \\text{with prob. }0.5 \n",
    "\\end{cases} \\\\\n",
    "$$\n",
    "\n",
    "where $\\Delta$ is a **stochastic experience gain**."
   ]
  },
  {
   "cell_type": "markdown",
   "metadata": {},
   "source": [
    "In the **second period** the worker thus solves:\n",
    "\n",
    "$$\n",
    "\\begin{eqnarray*}\n",
    "v_{2}(h_{2}) & = &\\max_{l_{2}} \\frac{c_2^{1-\\rho}}{1-\\rho} - \\gamma l_2\n",
    "\\\\ & \\text{s.t.} & \\\\\n",
    "c_{2}& = & \\begin{cases}\n",
    "w h_2 & \n",
    "\\text{if }l_2 = 1  \\\\\n",
    "b & \\text{if }l_2 = 0 \n",
    "\\end{cases} \\\\\n",
    "l_{2}& \\in &\\{0,1\\}\n",
    "\\end{eqnarray*}\n",
    "$$"
   ]
  },
  {
   "cell_type": "markdown",
   "metadata": {},
   "source": [
    "In the **first period** the worker thus solves:\n",
    "\n",
    "$$\n",
    "\\begin{eqnarray*}\n",
    "v_{1}(h_{1}) &=& \\max_{l_{1}} \\frac{c_1^{1-\\rho}}{1-\\rho} - \\gamma l_1 + \\beta\\mathbb{E}_{1}\\left[v_2(h_2)\\right]\n",
    "\\\\ & \\text{s.t.} & \\\\\n",
    "c_{1}& = & \\begin{cases}\n",
    "w h_1 & \n",
    "\\text{if }l_1 = 1  \\\\\n",
    "b & \\text{if }l_1 = 0 \n",
    "\\end{cases} \\\\\n",
    "h_2 &=& h_1 + l_1 + \\begin{cases}\n",
    "0 & \\text{with prob. }0.5\\\\\n",
    "\\Delta & \\text{with prob. }0.5 \n",
    "\\end{cases}\\\\\n",
    "l_{1} &\\in& \\{0,1\\}\\\\\n",
    "\\end{eqnarray*}\n",
    "$$\n",
    "\n",
    "where $\\beta$ is the **discount factor** and $\\mathbb{E}_{1}\\left[v_2(h_2)\\right]$ is the **expected value of living in period two**."
   ]
  },
  {
   "cell_type": "markdown",
   "metadata": {},
   "source": [
    "The **parameters** of the model are:"
   ]
  },
  {
   "cell_type": "code",
   "execution_count": 399,
   "metadata": {},
   "outputs": [],
   "source": [
    "rho = 2\n",
    "beta = 0.96\n",
    "gamma = 0.1\n",
    "w = 2\n",
    "b = 1\n",
    "Delta = 0.1"
   ]
  },
  {
   "cell_type": "markdown",
   "metadata": {},
   "source": [
    "The **relevant levels of human capital** are:"
   ]
  },
  {
   "cell_type": "code",
   "execution_count": 400,
   "metadata": {},
   "outputs": [],
   "source": [
    "h_vec = np.linspace(0.1,1.5,100) "
   ]
  },
  {
   "cell_type": "markdown",
   "metadata": {},
   "source": [
    "**Question 1:** Solve the model in period 2 and illustrate the solution (including labor supply as a function of human capital). "
   ]
  },
  {
   "cell_type": "markdown",
   "metadata": {},
   "source": [
    "In order to do this assignment, packages are imported, and to the values we are given, the values of the function is defnied."
   ]
  },
  {
   "cell_type": "code",
   "execution_count": 401,
   "metadata": {},
   "outputs": [],
   "source": [
    "#Importing packages\n",
    "from scipy import interpolate\n",
    "%matplotlib inline\n",
    "import matplotlib.pyplot as plt\n",
    "import ipywidgets as widgets"
   ]
  },
  {
   "cell_type": "code",
   "execution_count": 402,
   "metadata": {},
   "outputs": [],
   "source": [
    "#Defining solutions\n",
    "def c(h,l,w,b):\n",
    "    if l == 1:\n",
    "        return  w*h*l\n",
    "    elif l == 0:\n",
    "        return  b\n",
    "\n",
    "def utility(h,l,rho,gamma,w,b):\n",
    "    return c(h,l,w,b)**(1-rho)/(1-rho) - gamma*l\n",
    "\n",
    "def v2(h2,l2,rho,gamma,w,b):\n",
    "    return utility(h2,l2,rho,gamma,w,b)\n",
    "\n",
    "def v1(h1,l1,v2_interp,rho,gamma,w,b):\n",
    "    \n",
    "    #This is the result for low-skill\n",
    "    h2_low = h1 + l1 \n",
    "    v2_low = v2_interp([h2_low])[0]\n",
    "     \n",
    "    #This is the result for high-skill\n",
    "    h2_high = h1 + l1 + Delta\n",
    "    v2_high = v2_interp([h2_high])[0]\n",
    "    \n",
    "    #This is the expected value for v2\n",
    "    v2 = 0.5*v2_low + 0.5*v2_high\n",
    "    \n",
    "    #This is the total value\n",
    "    return utility(h1,l1,rho,gamma,w,b) + beta*v2"
   ]
  },
  {
   "cell_type": "markdown",
   "metadata": {},
   "source": [
    "There is taken great inspiration from problem set 7 for this section"
   ]
  },
  {
   "cell_type": "markdown",
   "metadata": {},
   "source": [
    "Now, that the functions have been defined, we move on to defining our solution functions"
   ]
  },
  {
   "cell_type": "code",
   "execution_count": 403,
   "metadata": {},
   "outputs": [],
   "source": [
    "#Defining solutions\n",
    "def solve_period_2(h_vec,rho,gamma,w,b):\n",
    "    \n",
    "    #Grids\n",
    "    v2_vec =  np.empty(100)\n",
    "    l2_vec = np.empty(100)\n",
    "    v2_vec_unemp = np.empty(100)\n",
    "\n",
    "    #Loops\n",
    "    for i, h2 in enumerate(h_vec):\n",
    "    \n",
    "        \n",
    "        if (v2(h2,1,rho,gamma,w,b) > v2(h2,0,rho,gamma,w,b)) == True: \n",
    "            l2_vec[i] = 1\n",
    "        else:\n",
    "            l2_vec[i] = 0\n",
    "            \n",
    "        #List\n",
    "        v2_vec[i] = v2(h2,l2_vec[i],rho,gamma,w,b)\n",
    "        v2_vec_unemp[i] = utility(h2,0,rho,gamma,w,b)\n",
    "    \n",
    "    return v2_vec, l2_vec, v2_vec_unemp\n",
    "\n",
    "#Solve\n",
    "v2_vec,l2_vec,v2_vec_unemp =  solve_period_2(h_vec,rho,gamma,w,b)"
   ]
  },
  {
   "cell_type": "markdown",
   "metadata": {},
   "source": [
    "Now, we move on to plotting the function to see the utility of the worker, given the "
   ]
  },
  {
   "cell_type": "code",
   "execution_count": 404,
   "metadata": {},
   "outputs": [
    {
     "data": {
      "image/png": "[encoded data removed]",
      "text/plain": [
       "<Figure size 432x288 with 1 Axes>"
      ]
     },
     "metadata": {
      "needs_background": "light"
     },
     "output_type": "display_data"
    },
    {
     "name": "stdout",
     "output_type": "stream",
     "text": [
      "The graphs intersect at h ≥ 0.567\n"
     ]
    }
   ],
   "source": [
    "fig = plt.figure()\n",
    "ax = fig.add_subplot(1,1,1)\n",
    "ax.plot(h_vec, v2(h_vec,1,rho,gamma,w,b), color = \"g\")\n",
    "ax.plot(h_vec, v2_vec_unemp, color = \"r\")\n",
    "ax.grid()\n",
    "ax.set_xlabel('Human capital, $h_2$')\n",
    "ax.set_ylabel('Value of living, $v_2$')\n",
    "ax.set_title('Value of living given human capital in period 2')\n",
    "plt.legend(('Working, $l_2=1$','Not working, $l_2=0$'),loc='lower center')\n",
    "plt.show()\n",
    "index = np.where(l2_vec == 1)[0][0];\n",
    "print('The graphs intersect at h ≥ ' + str(round(h_vec[index],3)))"
   ]
  },
  {
   "cell_type": "markdown",
   "metadata": {},
   "source": [
    "As we see from the graph, the values the worker is affiliated for utility, is negative whether she is working or not. She does though receive less negative utility, to a higher skill level than the intersect point, 0.567."
   ]
  },
  {
   "cell_type": "markdown",
   "metadata": {},
   "source": [
    "Now, a different graph will be made, which is the labour supply in regard to the human capital."
   ]
  },
  {
   "cell_type": "code",
   "execution_count": 405,
   "metadata": {},
   "outputs": [
    {
     "data": {
      "image/png": "[encoded data removed]",
      "text/plain": [
       "<Figure size 432x288 with 1 Axes>"
      ]
     },
     "metadata": {
      "needs_background": "light"
     },
     "output_type": "display_data"
    }
   ],
   "source": [
    "# Plotting LS as a function of HC, period 2\n",
    "fig = plt.figure()\n",
    "ax = fig.add_subplot(1,1,1)\n",
    "ax.plot(h_vec, l2_vec,rho,gamma,w,b,color = \"r\")\n",
    "ax.grid()\n",
    "ax.set_xlabel('HC, $h_2$')\n",
    "ax.set_ylabel('LS, $l_2$')\n",
    "ax.set_title('Labour based on skill, period 2')\n",
    "plt.show()"
   ]
  },
  {
   "cell_type": "markdown",
   "metadata": {},
   "source": [
    "Here, the graph tells us, that if the worker is in posession of HC which is 0.55 or above, the worker will be motivated to work in the second period, which will provide the worker with a higher amount of utility. However, if the worker is not in enough posession of HC, she will not choose to work, and therefore will live on the unemployment benefits, since the disutility outweighs the utility of consumption."
   ]
  },
  {
   "cell_type": "markdown",
   "metadata": {},
   "source": [
    "**Question 2:** Solve the model in period 1 and illustrate the solution (including labor supply as a function of human capital). "
   ]
  },
  {
   "cell_type": "markdown",
   "metadata": {},
   "source": [
    "As done in the first assignment, the solution functions will now be defined."
   ]
  },
  {
   "cell_type": "code",
   "execution_count": 406,
   "metadata": {},
   "outputs": [],
   "source": [
    "#Interpolator\n",
    "v2_interp = interpolate.RegularGridInterpolator([h_vec],v2_vec,bounds_error=False,fill_value=None)\n",
    "\n",
    "def solve_period_1(h_vec, v2_interp,rho,gamma,w,b):\n",
    "    \n",
    "    #Grids\n",
    "    v1_vec =np.empty(100)\n",
    "    l1_vec = np.empty(100)\n",
    "    v1_vec_unemployed = np.empty(100)\n",
    "    \n",
    "    #Loop\n",
    "    for i,h1 in enumerate(h_vec): \n",
    "        \n",
    "        #Utility\n",
    "        if (v1(h1,1,v2_interp,rho,gamma,w,b) > v1(h1,0,v2_interp,rho,gamma,w,b)) == True: \n",
    "            l1_vec[i] = 1\n",
    "        else:\n",
    "            l1_vec[i] = 0\n",
    "            \n",
    "        #List\n",
    "        v1_vec[i] = v1(h1,l1_vec[i],v2_interp,rho,gamma,w,b)\n",
    "        v1_vec_unemployed[i] = utility(h1,0,rho,gamma,w,b)\n",
    "    \n",
    "    return v1_vec, l1_vec, v1_vec_unemployed\n",
    "\n",
    "#Solve\n",
    "v1_vec, l1_vec, v1_vec_unemployed =  solve_period_1(h_vec, v2_interp,rho,gamma,w,b)"
   ]
  },
  {
   "cell_type": "markdown",
   "metadata": {},
   "source": [
    "Now, the labour supply function on HC, will be illustrated with a plot"
   ]
  },
  {
   "cell_type": "code",
   "execution_count": 407,
   "metadata": {},
   "outputs": [
    {
     "data": {
      "image/png": "[encoded data removed]",
      "text/plain": [
       "<Figure size 432x288 with 1 Axes>"
      ]
     },
     "metadata": {
      "needs_background": "light"
     },
     "output_type": "display_data"
    }
   ],
   "source": [
    "#LS as func of HC, periode 1\n",
    "fig = plt.figure()\n",
    "ax = fig.add_subplot(1,1,1)\n",
    "ax.plot(h_vec, l1_vec,rho,gamma,w,b,color = \"r\")\n",
    "ax.grid()\n",
    "ax.set_xlabel('HC, $h_1$')\n",
    "ax.set_ylabel('LS, $l_1$')\n",
    "ax.set_title('Labour based on skill, period 1')\n",
    "plt.show()"
   ]
  },
  {
   "cell_type": "markdown",
   "metadata": {},
   "source": [
    "Here, the graph tells us, that the skill level required to motivate the worker enough to want to work, is around 0.35. In addition, since the worker has a higher chance og evolving through working in the first period, it makes sense that a higher requirement is present in the second period, which was seen on the previous graphs."
   ]
  },
  {
   "cell_type": "markdown",
   "metadata": {},
   "source": [
    "Next up is illustrating the function, based on HC."
   ]
  },
  {
   "cell_type": "code",
   "execution_count": 408,
   "metadata": {},
   "outputs": [
    {
     "data": {
      "image/png": "[encoded data removed]",
      "text/plain": [
       "<Figure size 432x288 with 1 Axes>"
      ]
     },
     "metadata": {
      "needs_background": "light"
     },
     "output_type": "display_data"
    },
    {
     "name": "stdout",
     "output_type": "stream",
     "text": [
      "The graphs intersect at h ≥ 0.355\n"
     ]
    }
   ],
   "source": [
    "#Value based on HC\n",
    "fig = plt.figure()\n",
    "ax = fig.add_subplot(1,1,1)\n",
    "ax.plot(h_vec, v1_vec, color = \"green\")\n",
    "ax.plot(h_vec,v1_vec_unemployed, color = 'red')\n",
    "ax.grid()\n",
    "ax.set_xlabel('HC, $h_1$')\n",
    "ax.set_ylabel('Value, $v_1$')\n",
    "ax.set_title('Value based on HC, period 1')\n",
    "plt.legend(('Working, $l_1=1$','Not working, $l_1=0$'),loc='LC')\n",
    "plt.show()\n",
    "index = np.where(l1_vec == 1)[0][0];\n",
    "print('The graphs intersect at h ≥ ' + str(round(h_vec[index],3)))"
   ]
  },
  {
   "cell_type": "markdown",
   "metadata": {},
   "source": [
    "Here the graph tells us, that in order to motivate the worker to work, a level of human capital is required to be 0.355 or higher."
   ]
  },
  {
   "cell_type": "markdown",
   "metadata": {},
   "source": [
    "**Question 3:** Will the worker never work if her potential wage income is lower than the unemployment benefits she can get? Explain and illustrate why or why not."
   ]
  },
  {
   "cell_type": "markdown",
   "metadata": {},
   "source": [
    "In order to answer this question, the effects of changing wage, chance of avoiding work, and the benefits available if choosing not to work for both periods will be investigated."
   ]
  },
  {
   "cell_type": "code",
   "execution_count": 409,
   "metadata": {},
   "outputs": [
    {
     "data": {
      "application/vnd.jupyter.widget-view+json": {
       "model_id": "9d31f33d72fd4b0786c401db9cc76c12",
       "version_major": 2,
       "version_minor": 0
      },
      "text/plain": [
       "interactive(children=(FloatSlider(value=2.0, description='Wage rate', max=5.0, min=0.1), FloatSlider(value=1.0…"
      ]
     },
     "metadata": {},
     "output_type": "display_data"
    }
   ],
   "source": [
    "#Defining the function\n",
    "def int_fig(w,b,gamma):\n",
    "\n",
    "    #Implementing previous solutions\n",
    "    v1_vec, l1_vec, v1_vec_unemployed =  solve_period_1(h_vec, v2_interp,rho,gamma,w,b)\n",
    "    v2_vec,l2_vec, v2_vec_unemployed =  solve_period_2(h_vec,rho,gamma,w,b)\n",
    "\n",
    "    #Setting baseline for the illustration\n",
    "    fig, ((ax1, ax3), (ax2, ax4)) = plt.subplots(nrows=2,  ncols=2, sharex=True, figsize=(16,12))\n",
    "    \n",
    "    #Period 1\n",
    "    ax1.plot(h_vec,v1_vec_unemployed, label='Utility if $l_1=0$', color = 'green')\n",
    "    ax1.plot(h_vec,v1_vec, label='Utility if $l_1=1$', color = 'red')\n",
    "    ax1.grid()\n",
    "    ax1.legend(loc='lower right')\n",
    "    ax1.set_xlabel('HC, $h_1$')\n",
    "    ax1.set_ylabel('Value, $v_1$')\n",
    "    ax1.set_title('Value, period 1');\n",
    "\n",
    "    #HC/LS, period 1\n",
    "    ax2.plot(h_vec,l1_vec, label='LS',color = \"r\")\n",
    "    ax2.grid()\n",
    "    ax2.set_xlabel('HC, $h_1$')\n",
    "    ax2.set_ylabel('LS, $l_1$')\n",
    "    ax2.set_title('LS based on HC, period 1');\n",
    "    \n",
    "    #Value, period 2\n",
    "    ax1.plot(h_vec,v2_vec_unemp, label='Utility if $l_2=0$', color = 'green')\n",
    "    ax3.plot(h_vec,v2_vec, label='Utility if $l_2=1$', color = 'red')\n",
    "    ax3.grid()\n",
    "    ax3.legend(loc='lower right')\n",
    "    ax3.set_xlabel('HC, $h_2$')\n",
    "    ax3.set_ylabel('Value, $v_2$')\n",
    "    ax3.set_title('Value, period 2');\n",
    "\n",
    "    #HC/LS, period 2\n",
    "    ax4.plot(h_vec,l2_vec, label='Labor supply',color = \"r\")\n",
    "    ax4.grid()\n",
    "    ax4.legend(loc='lower right')\n",
    "    ax4.set_xlabel('HC, $h_2$')\n",
    "    ax4.set_ylabel('LS, $l_2$')\n",
    "    ax4.set_title('LS based on HC, period 2');\n",
    "\n",
    "# Widgets for the chosen parameters\n",
    "widgets.interact(int_fig,\n",
    "    b = widgets.FloatSlider(value=1,description='Unemployment benefits', min=0.1,max=5, step=0.1, ),\n",
    "    w = widgets.FloatSlider(value=2,description='Wage rate',min=0.1,max=5, step=0.1,),\n",
    "    gamma = widgets.FloatSlider(value=0.1,description='Aversion to work', min=0,max=5, step=0.1,));"
   ]
  },
  {
   "cell_type": "markdown",
   "metadata": {},
   "source": [
    "Its not impossible, that the worker chooses not to work in both of the periods, since the difference between the benefits gained from not working, and working not differ enough. This is also quite intuitive. However, a situation where the benefits grant a higher wage than gained from working, and the worker till chooses to work, would be possible if to achieve a high level of HC.\n",
    "Therefore, in conclusion, there is no concrete result. If the worker chooses to work or not, relies on the levels of wages, the benefits, and the disutility/utility."
   ]
  },
  {
   "cell_type": "markdown",
   "metadata": {},
   "source": [
    "# 2. AS-AD model"
   ]
  },
  {
   "cell_type": "markdown",
   "metadata": {},
   "source": [
    "Consider the following **AS-AD model**. The **goods market equilibrium** is given by\n",
    "\n",
    "$$ y_{t} = -\\alpha r_{t} + v_{t} $$\n",
    "\n",
    "where $y_{t}$ is the **output gap**, $r_{t}$ is the **ex ante real interest** and $v_{t}$ is a **demand disturbance**. "
   ]
  },
  {
   "cell_type": "markdown",
   "metadata": {},
   "source": [
    "The central bank's **Taylor rule** is\n",
    "\n",
    "$$ i_{t} = \\pi_{t+1}^{e} + h \\pi_{t} + b y_{t}$$\n",
    "\n",
    "where $i_{t}$ is the **nominal interest rate**, $\\pi_{t}$ is the **inflation gap**, and $\\pi_{t+1}^{e}$ is the **expected inflation gap**. "
   ]
  },
  {
   "cell_type": "markdown",
   "metadata": {},
   "source": [
    "The **ex ante real interest rate** is given by \n",
    "\n",
    "$$ r_{t} = i_{t} - \\pi_{t+1}^{e} $$"
   ]
  },
  {
   "cell_type": "markdown",
   "metadata": {},
   "source": [
    "Together, the above implies that the **AD-curve** is\n",
    "\n",
    "$$ \\pi_{t} = \\frac{1}{h\\alpha}\\left[v_{t} - (1+b\\alpha)y_{t}\\right]$$"
   ]
  },
  {
   "cell_type": "markdown",
   "metadata": {},
   "source": [
    "Further, assume that the **short-run supply curve (SRAS)** is given by\n",
    "\n",
    "$$ \\pi_{t} = \\pi_{t}^{e} + \\gamma y_{t} + s_{t}$$\n",
    "\n",
    "where $s_t$ is a **supply disturbance**."
   ]
  },
  {
   "cell_type": "markdown",
   "metadata": {},
   "source": [
    "**Inflation expectations are adaptive** and given by\n",
    "\n",
    "$$ \\pi_{t}^{e} = \\phi\\pi_{t-1}^{e} + (1-\\phi)\\pi_{t-1}$$"
   ]
  },
  {
   "cell_type": "markdown",
   "metadata": {},
   "source": [
    "Together, this implies that the **SRAS-curve** can also be written as\n",
    "\n",
    "$$ \\pi_{t} = \\pi_{t-1} + \\gamma y_{t} - \\phi\\gamma y_{t-1} + s_{t} - \\phi s_{t-1} $$"
   ]
  },
  {
   "cell_type": "markdown",
   "metadata": {},
   "source": [
    "The **parameters** of the model are:"
   ]
  },
  {
   "cell_type": "code",
   "execution_count": 410,
   "metadata": {},
   "outputs": [],
   "source": [
    "par = {}\n",
    "\n",
    "par['alpha'] = 5.76\n",
    "par['h'] = 0.5\n",
    "par['b'] = 0.5\n",
    "par['phi'] = 0\n",
    "par['gamma'] = 0.075"
   ]
  },
  {
   "cell_type": "markdown",
   "metadata": {},
   "source": [
    "**Question 1:** Use the ``sympy`` module to solve for the equilibrium values of output, $y_t$, and inflation, $\\pi_t$, (where AD = SRAS) given the parameters ($\\alpha$, $h$, $b$, $\\alpha$, $\\gamma$) and $y_{t-1}$ , $\\pi_{t-1}$, $v_t$, $s_t$, and $s_{t-1}$.\n"
   ]
  },
  {
   "cell_type": "markdown",
   "metadata": {},
   "source": [
    "In order to solve the equilibrium values, the symbols are defined."
   ]
  },
  {
   "cell_type": "code",
   "execution_count": 411,
   "metadata": {},
   "outputs": [],
   "source": [
    "#Definig symbols\n",
    "alpha = sm.symbols('alpha')\n",
    "h = sm.symbols('h')\n",
    "b = sm.symbols('b')\n",
    "phi = sm.symbols('phi')\n",
    "gamma = sm.symbols('gamma')\n",
    "r= sm.symbols('r')\n",
    "vt= sm.symbols('v_t')\n",
    "yt= sm.symbols('y_t')\n",
    "pi= sm.symbols('pi')\n",
    "phi= sm.symbols('phi')\n",
    "st= sm.symbols('s_t')\n",
    "pit_1= sm.symbols('pi_t-1')\n",
    "yt_1=sm.symbols('y_t-1')\n",
    "st_1=sm.symbols('s_t-1')"
   ]
  },
  {
   "cell_type": "markdown",
   "metadata": {},
   "source": [
    "Next, is the definition of AD and SRAS"
   ]
  },
  {
   "cell_type": "code",
   "execution_count": 412,
   "metadata": {},
   "outputs": [],
   "source": [
    "#Defining\n",
    "AD= (1/(h*alpha))*(vt-(yt*(1+b*alpha)))\n",
    "SRAS=pit_1+(gamma*yt)-(phi*gamma*yt_1)+st+(phi*st_1)"
   ]
  },
  {
   "cell_type": "markdown",
   "metadata": {},
   "source": [
    "Now, we implement the possibility of printing results out in the document"
   ]
  },
  {
   "cell_type": "code",
   "execution_count": 413,
   "metadata": {},
   "outputs": [],
   "source": [
    "#Printing\n",
    "sm.init_printing(use_unicode=True) "
   ]
  },
  {
   "cell_type": "code",
   "execution_count": 414,
   "metadata": {},
   "outputs": [
    {
     "data": {
      "image/png": "[encoded data removed]",
      "text/latex": [
       "$$0.347222222222222 v_{t} - 1.34722222222222 y_{t}$$"
      ],
      "text/plain": [
       "0.347222222222222⋅vₜ - 1.34722222222222⋅yₜ"
      ]
     },
     "execution_count": 414,
     "metadata": {},
     "output_type": "execute_result"
    }
   ],
   "source": [
    "AD1=(1/(par['h']*par['alpha']))*(vt-(yt*(1+par['b']*par['alpha'])))\n",
    "AD1"
   ]
  },
  {
   "cell_type": "code",
   "execution_count": 415,
   "metadata": {},
   "outputs": [
    {
     "data": {
      "image/png": "[encoded data removed]",
      "text/latex": [
       "$$\\pi_{t-1} + s_{t} + 0.075 y_{t}$$"
      ],
      "text/plain": [
       "πₜ₋₁ + sₜ + 0.075⋅yₜ"
      ]
     },
     "execution_count": 415,
     "metadata": {},
     "output_type": "execute_result"
    }
   ],
   "source": [
    "SRAS1=pit_1+(par['gamma']*yt)-(par['phi']*par['gamma']*yt_1)+st+(par['phi']*st_1)\n",
    "SRAS1"
   ]
  },
  {
   "cell_type": "markdown",
   "metadata": {},
   "source": [
    "The short term equilibrium is dependant on the aggregated supply, which in this case is equal to the aggregated demand. This means, that when we set those two factors equal to one another, and solve for y, we will find the output of the equilibrium."
   ]
  },
  {
   "cell_type": "code",
   "execution_count": 416,
   "metadata": {},
   "outputs": [
    {
     "data": {
      "image/png": "[encoded data removed]",
      "text/latex": [
       "$$\\left [ \\frac{\\alpha \\gamma h \\phi y_{t-1} - \\alpha h \\phi s_{t-1} - \\alpha h \\pi_{t-1} - \\alpha h s_{t} + v_{t}}{\\alpha b + \\alpha \\gamma h + 1}\\right ]$$"
      ],
      "text/plain": [
       "⎡α⋅γ⋅h⋅φ⋅yₜ₋₁ - α⋅h⋅φ⋅sₜ₋₁ - α⋅h⋅πₜ₋₁ - α⋅h⋅sₜ + vₜ⎤\n",
       "⎢──────────────────────────────────────────────────⎥\n",
       "⎣                 α⋅b + α⋅γ⋅h + 1                  ⎦"
      ]
     },
     "execution_count": 416,
     "metadata": {},
     "output_type": "execute_result"
    }
   ],
   "source": [
    "#Output\n",
    "AD_SRAS=sm.Eq(AD,SRAS)\n",
    "ytstar=sm.solve(AD_SRAS, yt)\n",
    "ytstar"
   ]
  },
  {
   "cell_type": "markdown",
   "metadata": {},
   "source": [
    "To solve the inflation, the recently acquired AD y* is inserted"
   ]
  },
  {
   "cell_type": "code",
   "execution_count": 417,
   "metadata": {},
   "outputs": [
    {
     "data": {
      "image/png": "[encoded data removed]",
      "text/latex": [
       "$$\\frac{v_{t} - \\frac{\\left(\\alpha b + 1\\right) \\left(\\alpha \\gamma h \\phi y_{t-1} - \\alpha h \\phi s_{t-1} - \\alpha h \\pi_{t-1} - \\alpha h s_{t} + v_{t}\\right)}{\\alpha b + \\alpha \\gamma h + 1}}{\\alpha h}$$"
      ],
      "text/plain": [
       "     (α⋅b + 1)⋅(α⋅γ⋅h⋅φ⋅yₜ₋₁ - α⋅h⋅φ⋅sₜ₋₁ - α⋅h⋅πₜ₋₁ - α⋅h⋅sₜ + vₜ)\n",
       "vₜ - ──────────────────────────────────────────────────────────────\n",
       "                            α⋅b + α⋅γ⋅h + 1                        \n",
       "───────────────────────────────────────────────────────────────────\n",
       "                                α⋅h                                "
      ]
     },
     "execution_count": 417,
     "metadata": {},
     "output_type": "execute_result"
    }
   ],
   "source": [
    "#Inflation\n",
    "pitstar = 1/(h*alpha)*(vt-(1+b*alpha)*ytstar[0])\n",
    "pitstar"
   ]
  },
  {
   "cell_type": "code",
   "execution_count": 418,
   "metadata": {},
   "outputs": [
    {
     "data": {
      "image/png": "[encoded data removed]",
      "text/latex": [
       "$$\\left [ - 0.703125 \\pi_{t-1} - 0.703125 s_{t} + 0.244140625 v_{t}\\right ]$$"
      ],
      "text/plain": [
       "[-0.703125⋅πₜ₋₁ - 0.703125⋅sₜ + 0.244140625⋅vₜ]"
      ]
     },
     "execution_count": 418,
     "metadata": {},
     "output_type": "execute_result"
    }
   ],
   "source": [
    "#Output \n",
    "AD1_SRAS1=sm.Eq(AD1,SRAS1)\n",
    "ytstar1=sm.solve(AD1_SRAS1, yt)\n",
    "ytstar1"
   ]
  },
  {
   "cell_type": "code",
   "execution_count": 419,
   "metadata": {},
   "outputs": [
    {
     "data": {
      "image/png": "[encoded data removed]",
      "text/latex": [
       "$$0.947265625 \\pi_{t-1} + 0.947265625 s_{t} + 0.018310546875 v_{t}$$"
      ],
      "text/plain": [
       "0.947265625⋅πₜ₋₁ + 0.947265625⋅sₜ + 0.018310546875⋅vₜ"
      ]
     },
     "execution_count": 419,
     "metadata": {},
     "output_type": "execute_result"
    }
   ],
   "source": [
    "#Inflation\n",
    "pitstar1 = 1/(par['h']*par['alpha'])*(vt-(1+par['b']*par['alpha'])*ytstar1[0])\n",
    "pitstar1"
   ]
  },
  {
   "cell_type": "markdown",
   "metadata": {},
   "source": [
    "Now, we can conclude that the equilibrium output and the inflation hereof is depoendant on the inflation in the previous periods, and on whether the demand or supply effects have caused any disturbance."
   ]
  },
  {
   "cell_type": "markdown",
   "metadata": {},
   "source": [
    "**Question 2:** Find and illustrate the equilibrium when $y_{t-1} = \\pi_{t-1} = v_t = s_t = s_{t-1} = 0$. Illustrate how the equilibrium changes when instead $v_t = 0.1$."
   ]
  },
  {
   "cell_type": "markdown",
   "metadata": {},
   "source": [
    "To do this, $y_t$,  and $\\pi_t$ is solved for numerically."
   ]
  },
  {
   "cell_type": "code",
   "execution_count": 420,
   "metadata": {},
   "outputs": [],
   "source": [
    "#Defining the function\n",
    "yt_eq = sm.lambdify((alpha,h,b,phi,gamma,vt,st,pit_1,yt_1,st_1), ytstar[0])"
   ]
  },
  {
   "cell_type": "code",
   "execution_count": 421,
   "metadata": {},
   "outputs": [],
   "source": [
    "#Defining the function\n",
    "pit_eq = sm.lambdify((alpha,h,b,phi,gamma,vt,st,pit_1,yt_1,st_1), pitstar)"
   ]
  },
  {
   "cell_type": "markdown",
   "metadata": {},
   "source": [
    "Now, as we know gamma is equal to 0.075, we can now"
   ]
  },
  {
   "cell_type": "code",
   "execution_count": 422,
   "metadata": {},
   "outputs": [
    {
     "data": {
      "image/png": "[encoded data removed]",
      "text/latex": [
       "$$0.0$$"
      ],
      "text/plain": [
       "0.0"
      ]
     },
     "execution_count": 422,
     "metadata": {},
     "output_type": "execute_result"
    }
   ],
   "source": [
    "#Output\n",
    "yt_eq(par['alpha'], par['h'], par['b'], par['phi'], par['gamma'], 0, 0, 0, 0, 0)"
   ]
  },
  {
   "cell_type": "code",
   "execution_count": 423,
   "metadata": {},
   "outputs": [
    {
     "data": {
      "image/png": "[encoded data removed]",
      "text/latex": [
       "$$0.0$$"
      ],
      "text/plain": [
       "0.0"
      ]
     },
     "execution_count": 423,
     "metadata": {},
     "output_type": "execute_result"
    }
   ],
   "source": [
    "#Inflation\n",
    "pit_eq(par['alpha'], par['h'], par['b'], par['phi'], par['gamma'], 0, 0, 0, 0, 0)"
   ]
  },
  {
   "cell_type": "markdown",
   "metadata": {},
   "source": [
    "As we want to see this illustrated, the AD an SRAS are defined as functions."
   ]
  },
  {
   "cell_type": "code",
   "execution_count": 424,
   "metadata": {},
   "outputs": [],
   "source": [
    "def ADcurve(h, alpha, yt, vt, b):\n",
    "    return (1/(h*alpha))*(vt-(y*(1+b*alpha)))\n",
    "\n",
    "def SRAScurve(pit_1, gamma, yt, yt_1, st, phi, st_1):\n",
    "    return pit_1+(gamma*yt)-(phi*gamma*yt_1)+st+(phi*st_1)"
   ]
  },
  {
   "cell_type": "code",
   "execution_count": 425,
   "metadata": {},
   "outputs": [
    {
     "data": {
      "text/plain": [
       "Text(0, 0.5, '$\\\\pi_t$')"
      ]
     },
     "execution_count": 425,
     "metadata": {},
     "output_type": "execute_result"
    },
    {
     "data": {
      "image/png": "[encoded data removed]",
      "text/plain": [
       "<Figure size 432x288 with 1 Axes>"
      ]
     },
     "metadata": {
      "needs_background": "light"
     },
     "output_type": "display_data"
    }
   ],
   "source": [
    "#Inserting values\n",
    "y=np.linspace(-0.1,0.1,100)\n",
    "AD_plot=ADcurve(0.5, 5.76, y, 0, 0.5)\n",
    "SRAS_plot=SRAScurve(0, 0.075, y, 0, 0, 0, 0)\n",
    "\n",
    "#Plotting\n",
    "plt.plot(y,AD_plot,label='AD')\n",
    "plt.plot(y,SRAS_plot,label='SRAS')\n",
    "plt.grid(True)\n",
    "\n",
    "plt.title('AD and SRAS')\n",
    "plt.xlabel('$y_t$')\n",
    "plt.ylabel('$\\pi_t$')"
   ]
  },
  {
   "cell_type": "markdown",
   "metadata": {},
   "source": [
    "The equilibrium for short term is given where the two graphs intersect. This is given at (0,0), which does correspond to the numerical solution found earlier."
   ]
  },
  {
   "cell_type": "markdown",
   "metadata": {},
   "source": [
    "The previous solution was for $v_t$ = 0.0.\n",
    "Now, we find the solution for $v_t$ = 0.1."
   ]
  },
  {
   "cell_type": "markdown",
   "metadata": {},
   "source": [
    "First numerically"
   ]
  },
  {
   "cell_type": "code",
   "execution_count": 426,
   "metadata": {},
   "outputs": [
    {
     "data": {
      "image/png": "[encoded data removed]",
      "text/latex": [
       "$$0.0244140625$$"
      ],
      "text/plain": [
       "0.0244140625"
      ]
     },
     "execution_count": 426,
     "metadata": {},
     "output_type": "execute_result"
    }
   ],
   "source": [
    "#Output\n",
    "yt_eq(par['alpha'], par['h'], par['b'], par['phi'], par['gamma'], 0.1, 0, 0, 0, 0)"
   ]
  },
  {
   "cell_type": "code",
   "execution_count": 427,
   "metadata": {},
   "outputs": [
    {
     "data": {
      "image/png": "[encoded data removed]",
      "text/latex": [
       "$$0.001831054687500002$$"
      ],
      "text/plain": [
       "0.001831054687500002"
      ]
     },
     "execution_count": 427,
     "metadata": {},
     "output_type": "execute_result"
    }
   ],
   "source": [
    "#Inflation\n",
    "pit_eq(par['alpha'], par['h'], par['b'], par['phi'], par['gamma'], 0.1, 0, 0, 0, 0)"
   ]
  },
  {
   "cell_type": "markdown",
   "metadata": {},
   "source": [
    "And now illustrative"
   ]
  },
  {
   "cell_type": "code",
   "execution_count": 428,
   "metadata": {},
   "outputs": [
    {
     "data": {
      "text/plain": [
       "Text(0, 0.5, '$\\\\pi_t$')"
      ]
     },
     "execution_count": 428,
     "metadata": {},
     "output_type": "execute_result"
    },
    {
     "data": {
      "image/png": "[encoded data removed]",
      "text/plain": [
       "<Figure size 432x288 with 1 Axes>"
      ]
     },
     "metadata": {
      "needs_background": "light"
     },
     "output_type": "display_data"
    }
   ],
   "source": [
    "#Creating a shift in the AD curve\n",
    "AD_plot1=ADcurve(0.5, 5.76, y, 0.1, 0.5)\n",
    "\n",
    "y = np.linspace(-0.1,0.1,100)\n",
    "plt.plot(y,AD_plot1,label='AD1')\n",
    "plt.plot(y,AD_plot,label='AD0')\n",
    "plt.grid(True)\n",
    "\n",
    "plt.title('Positive shift in the AD-curve')\n",
    "plt.xlabel('$y_t$')\n",
    "plt.ylabel('$\\pi_t$')"
   ]
  },
  {
   "cell_type": "markdown",
   "metadata": {},
   "source": [
    "It is noticed, that for any given value of $y_t$,  $\\pi_t$ is now at a higher value, than prior to the shift in the AD curve. Therefore, we can conlude, that in the new equilibrium, both $y_t$ and  $\\pi_t$ will be at higher values."
   ]
  },
  {
   "cell_type": "markdown",
   "metadata": {},
   "source": [
    "**Persistent disturbances:** Now, additionaly, assume that both the demand and the supply disturbances are AR(1) processes\n",
    "\n",
    "$$ v_{t} = \\delta v_{t-1} + x_{t} $$\n",
    "$$ s_{t} = \\omega s_{t-1} + c_{t} $$\n",
    "\n",
    "where $x_{t}$ is a **demand shock**, and $c_t$ is a **supply shock**. The **autoregressive parameters** are:"
   ]
  },
  {
   "cell_type": "code",
   "execution_count": 429,
   "metadata": {},
   "outputs": [],
   "source": [
    "par['delta'] = 0.80\n",
    "par['omega'] = 0.15"
   ]
  },
  {
   "cell_type": "markdown",
   "metadata": {},
   "source": [
    "**Question 3:** Starting from $y_{-1} = \\pi_{-1} = s_{-1} = 0$, how does the economy evolve for $x_0 = 0.1$, $x_t = 0, \\forall t > 0$ and $c_t = 0, \\forall t \\geq 0$?"
   ]
  },
  {
   "cell_type": "markdown",
   "metadata": {},
   "source": [
    "In order to see how the economy will evolve, the processes(AR) are first defined."
   ]
  },
  {
   "cell_type": "code",
   "execution_count": 430,
   "metadata": {},
   "outputs": [],
   "source": [
    "#Defining processes\n",
    "def v_func(vt_1, x):\n",
    "    return par['delta']*vt_1+x\n",
    "\n",
    "def s_func(st_1,c):\n",
    "    return par['omega']*st_1+c"
   ]
  },
  {
   "cell_type": "code",
   "execution_count": 431,
   "metadata": {},
   "outputs": [],
   "source": [
    "y_lambdified = sm.lambdify((pit_1, st, vt, phi, st_1, yt_1), ytstar1)\n",
    "pi_lambdified = sm.lambdify((pit_1, st, yt, phi, st_1, yt_1), pitstar1)"
   ]
  },
  {
   "cell_type": "markdown",
   "metadata": {},
   "source": [
    "Now, a simulation with 100 periods will be run, where vectors without substance will be created in order to compensate, which will be filled through loops."
   ]
  },
  {
   "cell_type": "code",
   "execution_count": 432,
   "metadata": {},
   "outputs": [],
   "source": [
    "T=100\n",
    "\n",
    "#Simulating allocated data\n",
    "y = [0]\n",
    "pi = [0]\n",
    "v = [0]\n",
    "s = [0]\n",
    "c = np.zeros(T)\n",
    "x = np.zeros(T)\n",
    "x[1] = 0.1\n",
    "\n",
    "for t in range(1,T):\n",
    "    v.append(v_func(v[t-1], x[t]))\n",
    "    s.append(s_func(s[t-1], c[t])) \n",
    "    y.append(yt_eq(par['alpha'], par['h'],par['b'],par['phi'],par['gamma'],v[t],s[t],pi[t-1],y[t-1],s[t-1]))\n",
    "    pi.append(pit_eq(par['alpha'], par['h'],par['b'],par['phi'],par['gamma'],v[t],s[t],pi[t-1],y[t-1],s[t-1]))"
   ]
  },
  {
   "cell_type": "markdown",
   "metadata": {},
   "source": [
    "Now, the output gap over 100 periods will be illustrated."
   ]
  },
  {
   "cell_type": "code",
   "execution_count": 433,
   "metadata": {},
   "outputs": [
    {
     "data": {
      "text/plain": [
       "Text(0, 0.5, '$y$')"
      ]
     },
     "execution_count": 433,
     "metadata": {},
     "output_type": "execute_result"
    },
    {
     "data": {
      "image/png": "[encoded data removed]",
      "text/plain": [
       "<Figure size 1080x720 with 1 Axes>"
      ]
     },
     "metadata": {
      "needs_background": "light"
     },
     "output_type": "display_data"
    }
   ],
   "source": [
    "plot = plt.figure(figsize=(15,10))\n",
    "ax = plot.add_subplot(311)\n",
    "plt.grid(True)\n",
    "\n",
    "ax.plot(y,label='$\\y$',color = \"r\")\n",
    "ax.set_title('Output gap development')\n",
    "ax.set_xlabel('$time$')\n",
    "ax.set_ylabel('$y$')"
   ]
  },
  {
   "cell_type": "markdown",
   "metadata": {},
   "source": [
    "We see a spike in the gap, which occurs at (0.1,0.024.). This is in correspondence with a shock in the demand, which results in a increase in the output. However, we see the gap stabilizing over time, which can be corresponded back to that we have $x_t$ = 0."
   ]
  },
  {
   "cell_type": "markdown",
   "metadata": {},
   "source": [
    "Next up is the illustration for the inflation gap, also for 100 periods."
   ]
  },
  {
   "cell_type": "code",
   "execution_count": 434,
   "metadata": {},
   "outputs": [
    {
     "data": {
      "text/plain": [
       "Text(0, 0.5, '$\\\\pi$')"
      ]
     },
     "execution_count": 434,
     "metadata": {},
     "output_type": "execute_result"
    },
    {
     "data": {
      "image/png": "[encoded data removed]",
      "text/plain": [
       "<Figure size 1080x720 with 1 Axes>"
      ]
     },
     "metadata": {
      "needs_background": "light"
     },
     "output_type": "display_data"
    }
   ],
   "source": [
    "plot = plt.figure(figsize=(15,10))\n",
    "ax = plot.add_subplot(311)\n",
    "plt.grid(True)\n",
    "\n",
    "ax.plot(pi,label='$\\pi$',color = \"r\")\n",
    "ax.set_title('Inflation gap development')\n",
    "ax.set_xlabel('$time$')\n",
    "ax.set_ylabel('$\\pi$')"
   ]
  },
  {
   "cell_type": "markdown",
   "metadata": {},
   "source": [
    "We see a smiliar response, with a spike followed by a stabilizing curve.\n",
    "What both grahps share, is that they both converge towards 0, and both spikes are caused by shocks in supply or demand."
   ]
  },
  {
   "cell_type": "markdown",
   "metadata": {},
   "source": [
    "**Stochastic shocks:** Now, additionally, assume that $x_t$ and $c_t$ are stochastic and normally distributed\n",
    "\n",
    "$$ x_{t}\\sim\\mathcal{N}(0,\\sigma_{x}^{2}) $$\n",
    "$$ c_{t}\\sim\\mathcal{N}(0,\\sigma_{c}^{2}) $$\n",
    "\n",
    "The **standard deviations of the shocks** are:"
   ]
  },
  {
   "cell_type": "code",
   "execution_count": 435,
   "metadata": {},
   "outputs": [],
   "source": [
    "par['sigma_x'] = 3.492\n",
    "par['sigma_c'] = 0.2"
   ]
  },
  {
   "cell_type": "markdown",
   "metadata": {},
   "source": [
    "**Question 4:** Simulate the AS-AD model for 1,000 periods. Calculate the following five statistics:\n",
    "\n",
    "1. Variance of $y_t$, $var(y_t)$\n",
    "2. Variance of $\\pi_t$, $var(\\pi_t)$\n",
    "3. Correlation between $y_t$ and $\\pi_t$, $corr(y_t,\\pi_t)$\n",
    "4. Auto-correlation between $y_t$ and $y_{t-1}$, $corr(y_t,y_{t-1})$\n",
    "5. Auto-correlation between $\\pi_t$ and $\\pi_{t-1}$, $corr(\\pi_t,\\pi_{t-1})$"
   ]
  },
  {
   "cell_type": "markdown",
   "metadata": {},
   "source": [
    "First things first, we create a simulation of the AS-AD model, for 1000 periods."
   ]
  },
  {
   "cell_type": "markdown",
   "metadata": {},
   "source": [
    "In order to do this, we do first need to define the functions."
   ]
  },
  {
   "cell_type": "code",
   "execution_count": 436,
   "metadata": {},
   "outputs": [],
   "source": [
    "#Setting periods\n",
    "np.random.seed(12345)   \n",
    "T=1000\n",
    "\n",
    "#Creating shocks \n",
    "x1 = np.random.normal(loc=0,scale=par['sigma_x'],size=T)\n",
    "c1 = np.random.normal(loc=0,scale=par['sigma_c'],size=T)\n",
    "\n",
    "\n",
    "#Allocating data\n",
    "y1 = [0]\n",
    "pi1 = [0]\n",
    "v1 = [0]\n",
    "s1 = [0]\n",
    "x[1] = 0.1\n",
    "\n",
    "for t in range(1,T): \n",
    "    v1.append(v_func(v1[t-1], x1[t]))\n",
    "    s1.append(s_func(s1[t-1], c1[t]))\n",
    "    y1.append(yt_eq(par['alpha'], par['h'],par['b'],par['phi'],par['gamma'],v1[t],s1[t],pi1[t-1],y1[t-1],s1[t-1]))\n",
    "    pi1.append(pit_eq(par['alpha'], par['h'],par['b'],par['phi'],par['gamma'],v1[t],s1[t],pi1[t-1],y1[t-1],s1[t-1]))"
   ]
  },
  {
   "cell_type": "markdown",
   "metadata": {},
   "source": [
    "Now, we can illustrate the model."
   ]
  },
  {
   "cell_type": "code",
   "execution_count": 437,
   "metadata": {},
   "outputs": [
    {
     "data": {
      "image/png": "[encoded data removed]",
      "text/plain": [
       "<Figure size 1080x1080 with 1 Axes>"
      ]
     },
     "metadata": {
      "needs_background": "light"
     },
     "output_type": "display_data"
    }
   ],
   "source": [
    "plot = plt.figure(figsize=(15,15))\n",
    "ax = plot.add_subplot(311)\n",
    "\n",
    "ax.plot(y1,label='$output$')\n",
    "ax.plot(pi1,label='$inflation$')\n",
    "\n",
    "ax.set_title('Output gap and inflation development')\n",
    "ax.set_xlabel('$time$')\n",
    "ax.set_ylabel('$\\pi/y$')\n",
    "ax.legend(loc='upper right');"
   ]
  },
  {
   "cell_type": "markdown",
   "metadata": {},
   "source": [
    "Now we move on to calcuating the statistics."
   ]
  },
  {
   "cell_type": "markdown",
   "metadata": {},
   "source": [
    "1. Variance of $y_t$, $var(y_t)$"
   ]
  },
  {
   "cell_type": "code",
   "execution_count": 438,
   "metadata": {},
   "outputs": [
    {
     "data": {
      "image/png": "[encoded data removed]",
      "text/latex": [
       "$$1.8782579334561504$$"
      ],
      "text/plain": [
       "1.8782579334561504"
      ]
     },
     "execution_count": 438,
     "metadata": {},
     "output_type": "execute_result"
    }
   ],
   "source": [
    "y_var=np.var(y1)\n",
    "y_var"
   ]
  },
  {
   "cell_type": "code",
   "execution_count": 439,
   "metadata": {},
   "outputs": [
    {
     "name": "stdout",
     "output_type": "stream",
     "text": [
      "Variance of y is, 1.9\n"
     ]
    }
   ],
   "source": [
    "print(f'Variance of y is, {y_var:.2}')"
   ]
  },
  {
   "cell_type": "markdown",
   "metadata": {},
   "source": [
    "2. Variance of $\\pi_t$, $var(\\pi_t)$"
   ]
  },
  {
   "cell_type": "code",
   "execution_count": 440,
   "metadata": {},
   "outputs": [
    {
     "data": {
      "image/png": "[encoded data removed]",
      "text/latex": [
       "$$0.864433338052791$$"
      ],
      "text/plain": [
       "0.864433338052791"
      ]
     },
     "execution_count": 440,
     "metadata": {},
     "output_type": "execute_result"
    }
   ],
   "source": [
    "pi_var=np.var(pi1)\n",
    "pi_var"
   ]
  },
  {
   "cell_type": "code",
   "execution_count": 441,
   "metadata": {},
   "outputs": [
    {
     "name": "stdout",
     "output_type": "stream",
     "text": [
      "Variance of pi is, 0.86\n"
     ]
    }
   ],
   "source": [
    "print(f'Variance of pi is, {pi_var:.2}')"
   ]
  },
  {
   "cell_type": "markdown",
   "metadata": {},
   "source": [
    "3. Correlation between $y_t$ and $\\pi_t$, $corr(y_t,\\pi_t)$"
   ]
  },
  {
   "cell_type": "code",
   "execution_count": 442,
   "metadata": {},
   "outputs": [
    {
     "data": {
      "text/plain": [
       "array([[ 1.        , -0.17556771],\n",
       "       [-0.17556771,  1.        ]])"
      ]
     },
     "execution_count": 442,
     "metadata": {},
     "output_type": "execute_result"
    }
   ],
   "source": [
    "np.corrcoef(y1,pi1)"
   ]
  },
  {
   "cell_type": "code",
   "execution_count": 443,
   "metadata": {},
   "outputs": [
    {
     "name": "stdout",
     "output_type": "stream",
     "text": [
      "Correlation between y and pi is, -0.18\n"
     ]
    }
   ],
   "source": [
    "print(f'Correlation between y and pi is, {np.corrcoef(y1,pi1)[0,1]:.2}')"
   ]
  },
  {
   "cell_type": "markdown",
   "metadata": {},
   "source": [
    "4. Auto-correlation between $y_t$ and $y_{t-1}$, $corr(y_t,y_{t-1})$"
   ]
  },
  {
   "cell_type": "markdown",
   "metadata": {},
   "source": [
    "In the previous 3 cases, it was just plug and play. However, we need to take the auto-correlation into account here, which means we have to defining a function for is."
   ]
  },
  {
   "cell_type": "code",
   "execution_count": 444,
   "metadata": {},
   "outputs": [
    {
     "data": {
      "text/plain": [
       "array([[1.        , 0.78020678],\n",
       "       [0.78020678, 1.        ]])"
      ]
     },
     "execution_count": 444,
     "metadata": {},
     "output_type": "execute_result"
    }
   ],
   "source": [
    "#Defining function\n",
    "def autocorr(x, t=1):\n",
    "    return np.corrcoef(np.array([x[:-t], x[t:]]))\n",
    "\n",
    "#Fining the autocorrelation\n",
    "autocorr(y1)"
   ]
  },
  {
   "cell_type": "code",
   "execution_count": 445,
   "metadata": {},
   "outputs": [
    {
     "name": "stdout",
     "output_type": "stream",
     "text": [
      "Autocorrelation in y is, 0.97\n"
     ]
    }
   ],
   "source": [
    "print(f'Autocorrelation in y is, {autocorr(pi1)[0,1]:.2}')"
   ]
  },
  {
   "cell_type": "markdown",
   "metadata": {},
   "source": [
    "5. Auto-correlation between $\\pi_t$ and $\\pi_{t-1}$, $corr(\\pi_t,\\pi_{t-1})$"
   ]
  },
  {
   "cell_type": "markdown",
   "metadata": {},
   "source": [
    "Since we defined the function prior to this question, we can just plug it in."
   ]
  },
  {
   "cell_type": "code",
   "execution_count": 446,
   "metadata": {},
   "outputs": [
    {
     "data": {
      "text/plain": [
       "array([[1.       , 0.9720786],\n",
       "       [0.9720786, 1.       ]])"
      ]
     },
     "execution_count": 446,
     "metadata": {},
     "output_type": "execute_result"
    }
   ],
   "source": [
    "autocorr(pi1)"
   ]
  },
  {
   "cell_type": "code",
   "execution_count": 447,
   "metadata": {},
   "outputs": [
    {
     "name": "stdout",
     "output_type": "stream",
     "text": [
      "Autocorrelation in pi is, 0.78\n"
     ]
    }
   ],
   "source": [
    "print(f'Autocorrelation in pi is, {autocorr(y1)[0,1]:.2}')"
   ]
  },
  {
   "cell_type": "markdown",
   "metadata": {},
   "source": [
    "**Question 5:** Plot how the correlation between $y_t$ and $\\pi_t$ changes with $\\phi$. Use a numerical optimizer or root finder to choose $\\phi\\in(0,1)$ such that the simulated correlation between $y_t$ and $\\pi_t$ comes close to 0.31. "
   ]
  },
  {
   "cell_type": "markdown",
   "metadata": {},
   "source": [
    "To answer this question, a simulation which will run different values for the output gap, and different values for the inflation gap will be implemented."
   ]
  },
  {
   "cell_type": "code",
   "execution_count": 451,
   "metadata": {},
   "outputs": [],
   "source": [
    "#Seed\n",
    "T=1000                                                          \n",
    "x_3_vec = np.random.normal(scale=par['sigma_x'], loc=0, size=T) \n",
    "c_3_vec = np.random.normal(scale=par['sigma_c'], loc=0, size=T) "
   ]
  },
  {
   "cell_type": "markdown",
   "metadata": {},
   "source": [
    "As the seed has been set, we now move on to defining the simulation."
   ]
  },
  {
   "cell_type": "code",
   "execution_count": 456,
   "metadata": {},
   "outputs": [],
   "source": [
    "#Defining simulation\n",
    "def simulate_phi(phi):\n",
    "    #Vectors\n",
    "    v_3_vec = [0]                        \n",
    "    s_3_vec = [0]\n",
    "    y_3_vec = [0]\n",
    "    pi_3_vec = [0]\n",
    "    \n",
    "    #Range\n",
    "    for t in range(1,T):\n",
    "        v_3_vec.append(v(v_3_vec[t-1], x_3_vec[t]))\n",
    "        s_3_vec.append(s(s_3_vec[t-1], c_3_vec[t]))\n",
    "        y_3_vec.append(y_star1(par['alpha'], par['b'],par['gamma'],par['h'],phi,y_3_vec[t-1],s_3_vec[t-1],pi_3_vec[t-1],s_3_vec[t],v_3_vec[t]))\n",
    "        pi_3_vec.append(pi_star1(par['alpha'], par['b'],par['gamma'],par['h'],phi,y_3_vec[t-1],s_3_vec[t-1],pi_3_vec[t-1],s_3_vec[t],v_3_vec[t]))\n",
    "    corr_2_y_pi = np.corrcoef(y_3_vec,pi_3_vec)[0,1]\n",
    "    return corr_2_y_pi"
   ]
  },
  {
   "cell_type": "markdown",
   "metadata": {},
   "source": [
    "**Quesiton 6:** Use a numerical optimizer to choose $\\sigma_x>0$, $\\sigma_c>0$ and $\\phi\\in(0,1)$ to make the simulated statistics as close as possible to US business cycle data where:\n",
    "\n",
    "1. $var(y_t) = 1.64$\n",
    "2. $var(\\pi_t) = 0.21$\n",
    "3. $corr(y_t,\\pi_t) = 0.31$\n",
    "4. $corr(y_t,y_{t-1}) = 0.84$\n",
    "5. $corr(\\pi_t,\\pi_{t-1}) = 0.48$"
   ]
  },
  {
   "cell_type": "markdown",
   "metadata": {},
   "source": [
    "# 3. Exchange economy"
   ]
  },
  {
   "cell_type": "markdown",
   "metadata": {},
   "source": [
    "Consider an **exchange economy** with\n",
    "\n",
    "1. 3 goods, $(x_1,x_2,x_3)$\n",
    "2. $N$ consumers indexed by \\\\( j \\in \\{1,2,\\dots,N\\} \\\\)\n",
    "3. Preferences are Cobb-Douglas with log-normally distributed coefficients\n",
    "\n",
    "    $$ \\begin{eqnarray*}\n",
    "    u^{j}(x_{1},x_{2},x_{3}) &=& \n",
    "    \\left(x_{1}^{\\beta_{1}^{j}}x_{2}^{\\beta_{2}^{j}}x_{3}^{\\beta_{3}^{j}}\\right)^{\\gamma}\\\\\n",
    "     &  & \\,\\,\\,\\beta_{i}^{j}=\\frac{\\alpha_{i}^{j}}{\\alpha_{1}^{j}+\\alpha_{2}^{j}+\\alpha_{3}^{j}} \\\\\n",
    "     &  & \\,\\,\\,\\boldsymbol{\\alpha}^{j}=(\\alpha_{1}^{j},\\alpha_{2}^{j},\\alpha_{3}^{j}) \\\\ \n",
    "     &  & \\,\\,\\,\\log(\\boldsymbol{\\alpha}^j) \\sim \\mathcal{N}(\\mu,\\Sigma) \\\\\n",
    "    \\end{eqnarray*} $$\n",
    "\n",
    "4. Endowments are exponentially distributed,\n",
    "\n",
    "$$\n",
    "\\begin{eqnarray*}\n",
    "\\boldsymbol{e}^{j} &=& (e_{1}^{j},e_{2}^{j},e_{3}^{j}) \\\\\n",
    " &  & e_i^j \\sim f, f(z;\\zeta) =  1/\\zeta \\exp(-z/\\zeta)\n",
    "\\end{eqnarray*}\n",
    "$$"
   ]
  },
  {
   "cell_type": "markdown",
   "metadata": {},
   "source": [
    "Let $p_3 = 1$ be the **numeraire**. The implied **demand functions** are:\n",
    "\n",
    "$$\n",
    "\\begin{eqnarray*}\n",
    "x_{i}^{\\star j}(p_{1},p_{2},\\boldsymbol{e}^{j})&=&\\beta^{j}_i\\frac{I^j}{p_{i}} \\\\\n",
    "\\end{eqnarray*}\n",
    "$$\n",
    "\n",
    "where consumer $j$'s income is\n",
    "\n",
    "$$I^j = p_1 e_1^j + p_2 e_2^j +p_3 e_3^j$$"
   ]
  },
  {
   "cell_type": "markdown",
   "metadata": {},
   "source": [
    "The **parameters** and **random preferences and endowments** are given by:"
   ]
  },
  {
   "cell_type": "code",
   "execution_count": null,
   "metadata": {},
   "outputs": [],
   "source": [
    "# a. parameters\n",
    "N = 50000\n",
    "mu = np.array([3,2,1])\n",
    "Sigma = np.array([[0.25, 0, 0], [0, 0.25, 0], [0, 0, 0.25]])\n",
    "gamma = 0.8\n",
    "zeta = 1\n",
    "\n",
    "# b. random draws\n",
    "seed = 1986\n",
    "np.random.seed(seed)\n",
    "\n",
    "# preferences\n",
    "alphas = np.exp(np.random.multivariate_normal(mu, Sigma, size=N))\n",
    "betas = alphas/np.reshape(np.sum(alphas,axis=1),(N,1))\n",
    "\n",
    "# endowments\n",
    "e1 = np.random.exponential(zeta,size=N)\n",
    "e2 = np.random.exponential(zeta,size=N)\n",
    "e3 = np.random.exponential(zeta,size=N)"
   ]
  },
  {
   "cell_type": "markdown",
   "metadata": {},
   "source": [
    "**Question 1:** Plot the histograms of the budget shares for each good across agents.\n",
    "\n",
    "Consider the **excess demand functions:**\n",
    "\n",
    "$$ z_i(p_1,p_2) = \\sum_{j=1}^N x_{i}^{\\star j}(p_{1},p_{2},\\boldsymbol{e}^{j}) - e_i^j$$\n",
    "\n"
   ]
  },
  {
   "cell_type": "markdown",
   "metadata": {},
   "source": [
    "In order to answer this question, 3 plots will be illustrated"
   ]
  },
  {
   "cell_type": "code",
   "execution_count": null,
   "metadata": {},
   "outputs": [],
   "source": [
    "#Plotting histograms\n",
    "fig = plt.figure(figsize=(15,5))\n",
    "ax = fig.add_subplot(1,3,1)\n",
    "ax.hist(betas[:,0],bins=200,histtype='bar',color = \"r\")\n",
    "ax.set_xlabel('$Beta_1$')\n",
    "ax.set_ylabel('Consumption')\n",
    "ax.set_title('Good Across Agent 1')\n",
    "ax.set_ylim([0, 1250])\n",
    "\n",
    "ax = fig.add_subplot(1,3,2)\n",
    "ax.hist(betas[:,1],bins=200,histtype='bar',color = \"r\")\n",
    "ax.set_xlabel('$Beta_2$')\n",
    "ax.set_title('Good Across Agent 2')\n",
    "ax.set_ylim([0, 1250])\n",
    "\n",
    "ax = fig.add_subplot(1,3,3)\n",
    "ax.hist(betas[:,2],bins=200,histtype='bar',color = \"r\")\n",
    "ax.set_xlabel('$Beta_3$')\n",
    "ax.set_title('Good Across Agent 3')\n",
    "ax.set_ylim([0, 1250]);"
   ]
  },
  {
   "cell_type": "markdown",
   "metadata": {},
   "source": [
    "**Question 2:** Plot the excess demand functions."
   ]
  },
  {
   "cell_type": "markdown",
   "metadata": {},
   "source": [
    "In order to do this question, the functions will first be defined, and then plotted."
   ]
  },
  {
   "cell_type": "code",
   "execution_count": null,
   "metadata": {},
   "outputs": [],
   "source": [
    "#Defining demand functions, p3=1\n",
    "def demand_good1(p1,p2,e1,e2,e3,betas):\n",
    "    I = e1*p1+e2*p2+e3\n",
    "    return betas[:,0]*I/p1\n",
    "\n",
    "def demand_good2(p1,p2,e1,e2,e3,betas):\n",
    "    I = e1*p1+e2*p2+e3\n",
    "    return betas[:,1]*I/p2\n",
    "\n",
    "def demand_good3(p1,p2,e1,e2,e3,betas):\n",
    "    I = e1*p1+e2*p2+e3\n",
    "    return betas[:,2]*I\n",
    "\n",
    "#Defining excess demand functions\n",
    "def excess1(p1,p2,e1,e2,e3,betas):\n",
    "    demand = np.sum(demand_good1(p1,p2,e1,e2,e3,betas))\n",
    "    supply = np.sum(e1)\n",
    "    excess1 = demand - supply\n",
    "    return excess1\n",
    "\n",
    "def excess2(p1,p2,e1,e2,e3,betas):\n",
    "    demand = np.sum(demand_good2(p1,p2,e1,e2,e3,betas))\n",
    "    supply = np.sum(e2)\n",
    "    excess2 = demand - supply\n",
    "    return excess2\n",
    "\n",
    "#Defining array of prices\n",
    "p1_s = np.linspace(0.1,10,100)\n",
    "p2_s = np.linspace(0.1,10,100)\n",
    "\n",
    "#Grids for excess demand\n",
    "excess_grid1 = np.empty((100,100))\n",
    "excess_grid2 = np.empty((100,100))\n",
    "\n",
    "#Transforming price-vectors\n",
    "p1_grid, p2_grid = np.meshgrid(p1_s,p2_s,indexing='ij')\n",
    "\n",
    "#Calculations\n",
    "for i,p1 in enumerate(p1_s):\n",
    "    for j,p2 in enumerate(p2_s):\n",
    "        excess_grid1[i,j] = excess1(p1,p2,e1,e2,e3,betas)\n",
    "        excess_grid2[i,j] = excess2(p1,p2,e1,e2,e3,betas)"
   ]
  },
  {
   "cell_type": "markdown",
   "metadata": {},
   "source": [
    "Now, the plots will be illustrated"
   ]
  },
  {
   "cell_type": "code",
   "execution_count": null,
   "metadata": {},
   "outputs": [],
   "source": [
    "# We can now plot our results\n",
    "fig = plt.figure(figsize=(15,5))\n",
    "ax = fig.add_subplot(1,2,1, projection='3d')\n",
    "ax.plot_surface(p1_grid, p2_grid, excess_grid1,color = \"r\")\n",
    "ax.invert_xaxis()\n",
    "ax.set_title('Excess demand, Good Across Agent 1')\n",
    "ax.set_xlabel('$p_1$')\n",
    "ax.set_ylabel('$p_2$')\n",
    "\n",
    "ax = fig.add_subplot(1,2,2, projection='3d')\n",
    "ax.plot_surface(p1_grid, p2_grid, excess_grid2,color = \"r\")\n",
    "ax.invert_xaxis()\n",
    "ax.set_title('Excess demand, Good Across Agent 2')\n",
    "ax.set_xlabel('$p_1$')\n",
    "ax.set_ylabel('$p_2$');"
   ]
  },
  {
   "cell_type": "markdown",
   "metadata": {},
   "source": [
    "**Quesiton 3:** Find the Walras-equilibrium prices, $(p_1,p_2)$, where both excess demands are (approximately) zero, e.g. by using the following tâtonnement process:\n",
    "\n",
    "1. Guess on $p_1 > 0$, $p_2 > 0$ and choose tolerance $\\epsilon > 0$ and adjustment aggressivity parameter, $\\kappa > 0$.\n",
    "2. Calculate $z_1(p_1,p_2)$ and $z_2(p_1,p_2)$.\n",
    "3. If $|z_1| < \\epsilon$ and $|z_2| < \\epsilon$ then stop.\n",
    "4. Else set $p_1 = p_1 + \\kappa \\frac{z_1}{N}$ and $p_2 = p_2 + \\kappa \\frac{z_2}{N}$ and return to step 2."
   ]
  },
  {
   "cell_type": "markdown",
   "metadata": {},
   "source": [
    "In order to answer this question, the tatonnement will first be defined, thereafter the demands will be calculated."
   ]
  },
  {
   "cell_type": "code",
   "execution_count": null,
   "metadata": {},
   "outputs": [],
   "source": [
    "def tatonnement(p1,p2,e1,e2,e3,betas,tol=1e-7,kappa=0.2,prints=True):\n",
    "  #Defining initial excess demands\n",
    "    z_1 = excess1(p1,p2,e1,e2,e3,betas)\n",
    "    z_2 = excess2(p1,p2,e1,e2,e3,betas)\n",
    "    t = 1 #Iteration counter\n",
    "\n",
    "   \n",
    "    \n",
    "    #The loop\n",
    "    while t < 12500:\n",
    "        \n",
    "        #Calculating initial excess demands\n",
    "        z_1 = excess1(p1,p2,e1,e2,e3,betas)\n",
    "        z_2 = excess2(p1,p2,e1,e2,e3,betas)\n",
    "\n",
    "        #Tolerance level\n",
    "        if abs(z_1)<tol and abs(z_2)<tol:\n",
    "            if prints:\n",
    "                print(f'\\nIn the Walras equilibrium we have: p1 = {p1:.2f} and p2 = {p2:.2f}')\n",
    "            p1_eq = p1\n",
    "            p2_eq = p2\n",
    "            return p1_eq, p2_eq\n",
    "\n",
    "        #No convergence\n",
    "        else:\n",
    "            p1 += kappa*z_1/N\n",
    "            p2 += kappa*z_2/N\n",
    "\n",
    "        #Iteration  \n",
    "        if prints:\n",
    "            if t <= 10 or t%1000==0:\n",
    "                print(f'Iter {t:6.0f}: Excess good 1 = {z_1:10.2f}, Excess good 2 = {z_2:10.2f} => p1 = {p1:10.2f}, p2 = {p2:10.2f}')\n",
    "\n",
    "        t += 1\n",
    "        \n",
    "    #Printing based on outcome\n",
    "    if t == 12500: \n",
    "        text = 'No convergence \\n'\n",
    "        print(text)\n",
    "        return None, None"
   ]
  },
  {
   "cell_type": "markdown",
   "metadata": {},
   "source": [
    "In order to actually find the walras-equilibrium prices, an estimated guess will be taken, and then the function will be called to actually find a result."
   ]
  },
  {
   "cell_type": "code",
   "execution_count": null,
   "metadata": {},
   "outputs": [],
   "source": [
    "#Guess\n",
    "p1 = 5\n",
    "p2 = 1\n",
    "\n",
    "#Calling function\n",
    "p1_eq, p2_eq = tatonnement(p1,p2,e1,e2,e3,betas)"
   ]
  },
  {
   "cell_type": "markdown",
   "metadata": {},
   "source": [
    "Here we see that, the Walras equilibrium in this case is 6.49 for p1, and 2.62 for p2."
   ]
  },
  {
   "cell_type": "markdown",
   "metadata": {},
   "source": [
    "**Question 4:** Plot the distribution of utility in the Walras-equilibrium and calculate its mean and variance."
   ]
  },
  {
   "cell_type": "markdown",
   "metadata": {},
   "source": [
    "In order to plot the distribution of utility within the walras euquilibrium, we again first define the functions, and then calculate its variance, whereafter it is illustrated."
   ]
  },
  {
   "cell_type": "code",
   "execution_count": null,
   "metadata": {},
   "outputs": [],
   "source": [
    "def u(p1, p2, e1, e2, e3, betas, gamma):\n",
    "\n",
    "    #Definig income\n",
    "    I = p1*e1+p2*e2+e3\n",
    "    \n",
    "    #Defining demand\n",
    "    demand1 = betas[:,0]*(I/p1)\n",
    "    demand2 = betas[:,1]*(I/p2)\n",
    "    demand3 = betas[:,2]*I\n",
    "    \n",
    "    #Calculating utility\n",
    "    u = (demand1**betas[:,0]+demand2**betas[:,1]+demand3**betas[:,2])**gamma\n",
    "    return u"
   ]
  },
  {
   "cell_type": "markdown",
   "metadata": {},
   "source": [
    "Now, a function which creates a given vector of our given utilites is constructed."
   ]
  },
  {
   "cell_type": "code",
   "execution_count": null,
   "metadata": {},
   "outputs": [],
   "source": [
    "#Defining the function\n",
    "u_vec = u(p1_eq, p2_eq, e1, e2, e3, betas, gamma)\n",
    "\n",
    "#Mean and Variance\n",
    "mean = np.mean(u_vec)\n",
    "var = np.var(u_vec)\n",
    "print(f'Mean: {mean:.2f}')\n",
    "print(f'Variance: {var:.2f}')"
   ]
  },
  {
   "cell_type": "markdown",
   "metadata": {},
   "source": [
    "And finally, we can now plot the distribution fo the utilies."
   ]
  },
  {
   "cell_type": "code",
   "execution_count": null,
   "metadata": {},
   "outputs": [],
   "source": [
    "#Plot\n",
    "plt.hist(u_vec, bins=500,color = \"r\")\n",
    "plt.title('Utility distribution')\n",
    "plt.xlabel('Utility')\n",
    "plt.ylabel('Consumers')"
   ]
  },
  {
   "cell_type": "markdown",
   "metadata": {},
   "source": [
    "**Question 5:** Find the Walras-equilibrium prices if instead all endowments were distributed equally. Discuss the implied changes in the distribution of utility. Does the value of $\\gamma$ play a role for your conclusions?"
   ]
  },
  {
   "cell_type": "markdown",
   "metadata": {},
   "source": [
    "Here we will call to the same tatonnement in question 3."
   ]
  },
  {
   "cell_type": "code",
   "execution_count": null,
   "metadata": {},
   "outputs": [],
   "source": [
    "e1_new = np.ones(N)*np.mean(e1)\n",
    "e2_new = np.ones(N)*np.mean(e2)\n",
    "e3_new = np.ones(N)*np.mean(e3)"
   ]
  },
  {
   "cell_type": "code",
   "execution_count": null,
   "metadata": {},
   "outputs": [],
   "source": [
    "p1 = 5\n",
    "p2 = 1\n",
    "\n",
    "p1_new, p2_new = tatonnement(p1,p2,e1_new,e2_new,e3_new,betas)"
   ]
  },
  {
   "cell_type": "markdown",
   "metadata": {},
   "source": [
    "It is noticed, that the prices in this case is the excat same as in q3."
   ]
  },
  {
   "cell_type": "markdown",
   "metadata": {},
   "source": [
    "Now, a new funtion is defined, to calculate the new means and variances, which is required in order to plot the difference in gamma."
   ]
  },
  {
   "cell_type": "code",
   "execution_count": null,
   "metadata": {},
   "outputs": [],
   "source": [
    "def u_new(p1, p2, e1, e2, e3, betas, gamma):\n",
    "\n",
    "    #Definig income\n",
    "    I = p1*e1+p2*e2+e3\n",
    "    \n",
    "    #Defining demand\n",
    "    demand1_new = betas[:,0]*(I/p1)\n",
    "    demand2_new = betas[:,1]*(I/p2)\n",
    "    demand3_new = betas[:,2]*I\n",
    "    \n",
    "    #Calculating utility\n",
    "    u = (demand1_new**betas[:,0]+demand2_new**betas[:,1]+demand3_new**betas[:,2])**gamma\n",
    "    return u_new"
   ]
  },
  {
   "cell_type": "markdown",
   "metadata": {},
   "source": [
    "The function in order to create the vector of utilites is now defined, along with finding the new mean and variance."
   ]
  },
  {
   "cell_type": "code",
   "execution_count": null,
   "metadata": {},
   "outputs": [],
   "source": [
    "#Defining funtion\n",
    "u_vec_new = u(p1_eq, p2_eq, e1, e2, e3, betas, 1.5)\n",
    "\n",
    "#New mean and variance\n",
    "mean = np.mean(u_vec_new)\n",
    "var = np.var(u_vec_new)\n",
    "print(f'Mean: {mean:.2f}')\n",
    "print(f'Variance: {var:.2f}')"
   ]
  },
  {
   "cell_type": "markdown",
   "metadata": {},
   "source": [
    "This tells us, that even to unchanged prices, gamma will influence the mean and variance values. We see an 0.7 increase in gamma, which results in a 2.84 incerase in mean, and a flat 3.5 increase in variance."
   ]
  },
  {
   "cell_type": "markdown",
   "metadata": {},
   "source": [
    "Now, the distribution of utility is illustrated."
   ]
  },
  {
   "cell_type": "code",
   "execution_count": null,
   "metadata": {},
   "outputs": [],
   "source": [
    "fig = plt.figure(figsize=(15,5))\n",
    "plt.hist(u_vec, bins=200, label='$\\gamma$ = 0.8')\n",
    "plt.hist(u_vec_new, bins=200, color='red', label='$\\gamma$ = 1.5')\n",
    "plt.legend()\n",
    "plt.title('Distribution of utility')\n",
    "plt.xlabel('Utility')\n",
    "plt.ylabel('Consumption');"
   ]
  },
  {
   "cell_type": "markdown",
   "metadata": {},
   "source": [
    "This makes it unquestionable, that gamma indeed does play a role."
   ]
  }
 ],
 "metadata": {
  "kernelspec": {
   "display_name": "Python 3",
   "language": "python",
   "name": "python3"
  },
  "language_info": {
   "codemirror_mode": {
    "name": "ipython",
    "version": 3
   },
   "file_extension": ".py",
   "mimetype": "text/x-python",
   "name": "python",
   "nbconvert_exporter": "python",
   "pygments_lexer": "ipython3",
   "version": "3.7.1"
  },
  "toc-autonumbering": false
 },
 "nbformat": 4,
 "nbformat_minor": 2
}
